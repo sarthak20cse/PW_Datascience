{
  "nbformat": 4,
  "nbformat_minor": 0,
  "metadata": {
    "colab": {
      "provenance": []
    },
    "kernelspec": {
      "name": "python3",
      "display_name": "Python 3"
    },
    "language_info": {
      "name": "python"
    }
  },
  "cells": [
    {
      "cell_type": "markdown",
      "source": [
        "## **Python OOPs**\n",
        "**Assignment Questions**\n",
        "# Python OOPs Questions\n",
        "1. What is Object-Oriented Programming (OOP)\n",
        "2. What is a class in OOP\n",
        "3. What is an object in OOP\n",
        "4. What is the difference between abstraction and encapsulation\n",
        "5. What are dunder methods in Python\n",
        "6. Explain the concept of inheritance in OOP\n",
        "7. What is polymorphism in OOP\n",
        "8. How is encapsulation achieved in Python\n",
        "9. What is a constructor in Python\n",
        "10. What are class and static methods in Python\n",
        "11. What is method overloading in Python\n",
        "12. What is method overriding in OOP\n",
        "13. What is a property decorator in Python\n",
        "14. Why is polymorphism important in OOP\n",
        "15. What is an abstract class in Python\n",
        "16. What are the advantages of OOP\n",
        "17. What is multiple inheritance in Python\n",
        "18. What is the difference between a class variable and an instance variable\n",
        "19. Explain the purpose of ‘’__str__’ and ‘__repr__’ ‘ methods in Python\n",
        "20. What is the significance of the ‘super()’ function in Python\n",
        "21. What is the significance of the __del__ method in Python\n",
        "22. What is the difference between @staticmethod and @classmethod in Python\n",
        "23. How does polymorphism work in Python with inheritance\n",
        "24. What is method chaining in Python OOP\n",
        "25. What is the purpose of the __call__ method in Python?\n",
        "\n",
        "# Practical Questions\n",
        " 1. Create a parent class Animal with a method speak() that prints a generic message. Create a child class Dog\n",
        "that overrides the speak() method to print \"Bark!\".\n",
        " 2. Write a program to create an abstract class Shape with a method area(). Derive classes Circle and Rectangle\n",
        "from it and implement the area() method in both.\n",
        " 3. Implement a multi-level inheritance scenario where a class Vehicle has an attribute type. Derive a class Car\n",
        "and further derive a class ElectricCar that adds a battery attribute.\n",
        " 4. Demonstrate polymorphism by creating a base class Bird with a method fly(). Create two derived classes\n",
        "Sparrow and Penguin that override the fly() method.\n",
        "5. Write a program to demonstrate encapsulation by creating a class BankAccount with private attributes\n",
        "balance and methods to deposit, withdraw, and check balance.\n",
        " 6. Demonstrate runtime polymorphism using a method play() in a base class Instrument. Derive classes Guitar\n",
        "and Piano that implement their own version of play().\n",
        " 7. Create a class MathOperations with a class method add_numbers() to add two numbers and a static\n",
        "method subtract_numbers() to subtract two numbers.\n",
        " 8. Implement a class Person with a class method to count the total number of persons created.\n",
        " 9. Write a class Fraction with attributes numerator and denominator. Override the str method to display the\n",
        "fraction as \"numerator/denominator\".\n",
        " 10. Demonstrate operator overloading by creating a class Vector and overriding the add method to add two\n",
        "vectors.\n",
        " 11. Create a class Person with attributes name and age. Add a method greet() that prints \"Hello, my name is\n",
        "{name} and I am {age} years old.\"\n",
        " 12. Implement a class Student with attributes name and grades. Create a method average_grade() to compute\n",
        "the average of the grades.\n",
        " 13. Create a class Rectangle with methods set_dimensions() to set the dimensions and area() to calculate the\n",
        "area.\n",
        " 14. Create a class Employee with a method calculate_salary() that computes the salary based on hours worked\n",
        "and hourly rate. Create a derived class Manager that adds a bonus to the salary.\n",
        "15. Create a class Product with attributes name, price, and quantity. Implement a method total_price() that\n",
        "calculates the total price of the product.\n",
        " 16. Create a class Animal with an abstract method sound(). Create two derived classes Cow and Sheep that\n",
        "implement the sound() method.\n",
        " 17. Create a class Book with attributes title, author, and year_published. Add a method get_book_info() that\n",
        "returns a formatted string with the book's details.\n",
        " 18. Create a class House with attributes address and price. Create a derived class Mansion that adds an\n",
        "attribute number_of_rooms\n"
      ],
      "metadata": {
        "id": "_EEuAisOPGzN"
      }
    },
    {
      "cell_type": "markdown",
      "source": [
        "## **Python OOPs Questions**"
      ],
      "metadata": {
        "id": "Xo-ktAptQl31"
      }
    },
    {
      "cell_type": "markdown",
      "source": [
        "Q1.What is Object-Oriented Programming (OOP)"
      ],
      "metadata": {
        "id": "BbPxFe4ITrTf"
      }
    },
    {
      "cell_type": "markdown",
      "source": [
        "Object-Oriented Programming (OOP) is a programming paradigm that organizes code into objects, which represent real-world entities. Each object contains data (attributes) and behaviors (methods) that operate on that data."
      ],
      "metadata": {
        "id": "BPCkL-FsTuI0"
      }
    },
    {
      "cell_type": "markdown",
      "source": [
        "Q2.What is a class in OOP"
      ],
      "metadata": {
        "id": "Ho6chq0sT5Yp"
      }
    },
    {
      "cell_type": "markdown",
      "source": [
        "A class in Object-Oriented Programming (OOP) is a blueprint or template for creating objects. It defines the attributes (data) and methods (functions) that the objects created from it will have."
      ],
      "metadata": {
        "id": "LS_6MU25T7TK"
      }
    },
    {
      "cell_type": "markdown",
      "source": [
        "Q3.What is an object in OOP"
      ],
      "metadata": {
        "id": "Kl1d00igUAtK"
      }
    },
    {
      "cell_type": "markdown",
      "source": [
        "An object in Object-Oriented Programming (OOP) is an instance of a class.\n",
        "It represents a real-world entity that has attributes (data) and methods (behaviors) defined by its class."
      ],
      "metadata": {
        "id": "FsegIvlVUDKY"
      }
    },
    {
      "cell_type": "markdown",
      "source": [
        "Q4.What is the difference between abstraction and encapsulation"
      ],
      "metadata": {
        "id": "eDhddmvrUSHl"
      }
    },
    {
      "cell_type": "markdown",
      "source": [
        "Abstraction is the process of hiding complex implementation details and showing only the essential features to the user. It focuses on what an object does rather than how it does it. The main goal of abstraction is to simplify code and reduce complexity.\n",
        "\n",
        "Encapsulation is the process of wrapping data (variables) and methods (functions) into a single unit called a class. It hides the internal state of an object and protects it from unauthorized access. The main goal of encapsulation is to ensure data security and control access to it.\n",
        "\n",
        "Difference:\n",
        "\n",
        "Abstraction hides the implementation details and exposes only necessary parts.\n",
        "\n",
        "Encapsulation hides the data and ensures controlled access through methods.\n",
        "\n",
        "Abstraction is about design; encapsulation is about implementation.\n",
        "\n",
        "Abstraction focuses on simplicity, while encapsulation focuses on security."
      ],
      "metadata": {
        "id": "viT_1fTWUToq"
      }
    },
    {
      "cell_type": "markdown",
      "source": [
        "Q5.What are dunder methods in Python"
      ],
      "metadata": {
        "id": "eDodP68eUkY_"
      }
    },
    {
      "cell_type": "markdown",
      "source": [
        "Dunder methods (short for “double underscore” methods) in Python are special built-in methods that start and end with double underscores — like __init__, __str__, or __add__.\n",
        "\n",
        "They are also known as magic methods or special methods, and they allow you to customize the behavior of your classes.\n",
        "\n",
        "These methods are automatically called by Python in certain situations (for example, when you create an object, add two objects, or print an object)."
      ],
      "metadata": {
        "id": "OX2fRBfGUmYO"
      }
    },
    {
      "cell_type": "markdown",
      "source": [
        "Q6.Explain the concept of inheritance in OOP"
      ],
      "metadata": {
        "id": "JqR_7pYrU19X"
      }
    },
    {
      "cell_type": "markdown",
      "source": [
        "Inheritance in Object-Oriented Programming (OOP) is the concept that allows one class (called the child or subclass) to acquire properties and behaviors from another class (called the parent or base class).\n",
        "\n",
        "It helps in code reusability and allows you to extend or modify existing functionality without rewriting it.\n",
        "\n",
        "In inheritance, the child class automatically gets access to all the attributes and methods of the parent class, and it can also add new features or override existing ones."
      ],
      "metadata": {
        "id": "YeW0q7bmU4ex"
      }
    },
    {
      "cell_type": "markdown",
      "source": [
        "Q7.What is polymorphism in OOP"
      ],
      "metadata": {
        "id": "CckhXjNEVDGM"
      }
    },
    {
      "cell_type": "markdown",
      "source": [
        "Polymorphism in Object-Oriented Programming (OOP) means “many forms.”\n",
        "It allows the same function or method name to behave differently based on the object that calls it.\n",
        "\n",
        "In simple terms, polymorphism lets you use one interface to represent different underlying data types or behaviors.\n",
        "\n",
        "It helps make code more flexible and easier to extend, since new classes can define their own versions of the same method without changing existing code."
      ],
      "metadata": {
        "id": "Q2eSOeBVVJDA"
      }
    },
    {
      "cell_type": "markdown",
      "source": [
        "Q8.How is encapsulation achieved in Python"
      ],
      "metadata": {
        "id": "z2m5CDsxVM7C"
      }
    },
    {
      "cell_type": "markdown",
      "source": [
        "Encapsulation in Python is achieved by restricting direct access to an object’s data and providing controlled access through methods.\n",
        "\n",
        "It is mainly done using:\n",
        "\n",
        "Private attributes – Prefixing a variable name with double underscores __ makes it private.\n",
        "\n",
        "Getter and setter methods – Used to safely access and modify private data.\n",
        "\n",
        "This ensures that the internal state of an object is protected and cannot be changed directly from outside the class, maintaining data security and integrity."
      ],
      "metadata": {
        "id": "N1XakpegVSs5"
      }
    },
    {
      "cell_type": "markdown",
      "source": [
        "Q9.What is a constructor in Python"
      ],
      "metadata": {
        "id": "nax7Yv_fVVGn"
      }
    },
    {
      "cell_type": "markdown",
      "source": [
        "A constructor in Python is a special method used to initialize an object when it is created from a class.\n",
        "\n",
        "It is defined using the __init__() method and is automatically called when a new object is instantiated.\n",
        "\n",
        "Constructors are mainly used to set initial values for the object’s attributes, ensuring the object starts in a valid state."
      ],
      "metadata": {
        "id": "wlHjtkLyVX-7"
      }
    },
    {
      "cell_type": "markdown",
      "source": [
        "Q10.What are class and static methods in Python"
      ],
      "metadata": {
        "id": "9vTM-81EMOFT"
      }
    },
    {
      "cell_type": "markdown",
      "source": [
        "In Python, class methods and static methods are special types of methods that differ from regular instance methods in how they access class and instance data."
      ],
      "metadata": {
        "id": "iU6JyG_iMP_4"
      }
    },
    {
      "cell_type": "markdown",
      "source": [
        "Q11.What is method overloading in Python"
      ],
      "metadata": {
        "id": "8GbnLAGKMmn0"
      }
    },
    {
      "cell_type": "markdown",
      "source": [
        "Method overloading lets a method adapt to different inputs, even though Python handles it differently from languages with built-in support."
      ],
      "metadata": {
        "id": "9Am2pYZJNinb"
      }
    },
    {
      "cell_type": "markdown",
      "source": [
        "Q12.What is method overriding in OOP"
      ],
      "metadata": {
        "id": "3mT7QihgNmEp"
      }
    },
    {
      "cell_type": "markdown",
      "source": [
        "Method overriding in Object-Oriented Programming (OOP) occurs when a child class provides its own implementation of a method that is already defined in its parent class.\n",
        "\n",
        "It allows the child class to modify or extend the behavior of the inherited method while keeping the same method name."
      ],
      "metadata": {
        "id": "Bw2vv4sWNnke"
      }
    },
    {
      "cell_type": "markdown",
      "source": [
        "Q13.What is a property decorator in Python"
      ],
      "metadata": {
        "id": "uWZFXAMbNwgb"
      }
    },
    {
      "cell_type": "markdown",
      "source": [
        "A property decorator in Python, written as @property, is used to define a method that can be accessed like an attribute.\n",
        "\n",
        "It allows you to control access to an attribute (for reading, setting, or deleting) without changing how it is accessed by the user."
      ],
      "metadata": {
        "id": "6tBeyuLXN-Qq"
      }
    },
    {
      "cell_type": "markdown",
      "source": [
        "Q14.Why is polymorphism important in OOP"
      ],
      "metadata": {
        "id": "CXoCrFkgOA-I"
      }
    },
    {
      "cell_type": "markdown",
      "source": [
        "Polymorphism is important in Object-Oriented Programming (OOP) because it allows one interface to be used for different underlying forms or behaviors.\n",
        "\n",
        "Reasons for its Importance:\n",
        "\n",
        "Code Reusability: The same method name can be used across different classes, reducing redundant code.\n",
        "\n",
        "Flexibility: Objects of different classes can be treated uniformly, making programs easier to extend or modify.\n",
        "\n",
        "Maintainability: Changes in method implementation in one class do not affect other classes using the same method name.\n",
        "\n",
        "Supports Polymorphic Behavior: Enables dynamic method resolution, allowing objects to behave differently in different contexts."
      ],
      "metadata": {
        "id": "n4gCVfoROCeI"
      }
    },
    {
      "cell_type": "markdown",
      "source": [
        "Q15.What is an abstract class in Python"
      ],
      "metadata": {
        "id": "3ylBoCFWOUOV"
      }
    },
    {
      "cell_type": "markdown",
      "source": [
        "An abstract class in Python is a class that cannot be instantiated directly and is meant to be inherited by other classes.\n",
        "\n",
        "It is used to define a common interface for a group of subclasses, often including abstract methods that must be implemented by the child classes."
      ],
      "metadata": {
        "id": "mscnVvHrOaJY"
      }
    },
    {
      "cell_type": "markdown",
      "source": [
        "Q16.What are the advantages of OOP"
      ],
      "metadata": {
        "id": "-FiyaFIKOluk"
      }
    },
    {
      "cell_type": "markdown",
      "source": [
        "Advantages of Object-Oriented Programming (OOP):\n",
        "\n",
        "Modularity: Code is organized into classes and objects, making it easier to manage and understand.\n",
        "\n",
        "Reusability: Classes can be reused across programs, reducing code duplication.\n",
        "\n",
        "Encapsulation: Hides internal details and protects data from unauthorized access.\n",
        "\n",
        "Abstraction: Simplifies complex systems by exposing only essential features.\n",
        "\n",
        "Inheritance: Allows new classes to inherit properties and methods from existing ones, promoting code reuse.\n",
        "\n",
        "Polymorphism: Enables objects to be treated uniformly while exhibiting different behaviors.\n",
        "\n",
        "Maintainability: Easier to update and maintain code due to clear structure and separation of concerns.\n",
        "\n",
        "Scalability: Facilitates building large and complex applications with minimal code duplication."
      ],
      "metadata": {
        "id": "KiJgE2ZgOnR8"
      }
    },
    {
      "cell_type": "markdown",
      "source": [
        "Q17.What is multiple inheritance in Python"
      ],
      "metadata": {
        "id": "G6-AM0pdOw0v"
      }
    },
    {
      "cell_type": "markdown",
      "source": [
        "Multiple inheritance in Python is a feature where a child class can inherit from more than one parent class.\n",
        "\n",
        "This allows the child class to access attributes and methods from multiple parent classes, combining their functionalities."
      ],
      "metadata": {
        "id": "U5DjvergPEVy"
      }
    },
    {
      "cell_type": "markdown",
      "source": [
        "Q18.What is the difference between a class variable and an instance variable"
      ],
      "metadata": {
        "id": "3Gm4OanyPHXU"
      }
    },
    {
      "cell_type": "markdown",
      "source": [
        "The main difference between class variables and instance variables in Python is how they are stored and shared.\n",
        "\n",
        "# Class Variable\n",
        "\n",
        "Defined inside a class but outside any methods.\n",
        "\n",
        "Shared across all instances of the class.\n",
        "\n",
        "Changing it affects all objects of the class.\n",
        "\n",
        "# Instance Variable\n",
        "\n",
        "Defined inside a method (usually __init__) using self).\n",
        "\n",
        "Unique to each object.\n",
        "\n",
        "Changing it affects only that particular object."
      ],
      "metadata": {
        "id": "Ru4SEue_PXm5"
      }
    },
    {
      "cell_type": "markdown",
      "source": [
        "Q19.Explain the purpose of ‘’str’ and ‘repr’ ‘ methods in Python"
      ],
      "metadata": {
        "id": "1SLoVtMwPebD"
      }
    },
    {
      "cell_type": "markdown",
      "source": [
        "In Python, __str__ and __repr__ are special (dunder) methods used to define how an object is represented as a string.\n",
        "\n",
        "__str__\n",
        "\n",
        "Used to return a readable or user-friendly string representation of an object.\n",
        "\n",
        "Called by the str() function or when printing an object.\n",
        "\n",
        "Aim: informal description for end-users.\n",
        "\n",
        "__repr__\n",
        "\n",
        "Used to return an unambiguous string representation of an object.\n",
        "\n",
        "Called by the repr() function or in the interactive shell.\n",
        "\n",
        "Aim: developer-friendly, often one that could be used to recreate the object."
      ],
      "metadata": {
        "id": "cJbZEr7CPfwj"
      }
    },
    {
      "cell_type": "markdown",
      "source": [
        "Q20.What is the significance of the ‘super()’ function in Python"
      ],
      "metadata": {
        "id": "46rc7yQxPnnV"
      }
    },
    {
      "cell_type": "markdown",
      "source": [
        "super() helps a subclass reuse and extend parent class functionality safely and efficiently."
      ],
      "metadata": {
        "id": "TP5izdn1PvK4"
      }
    },
    {
      "cell_type": "markdown",
      "source": [
        "Q21.What is the significance of the del method in Python"
      ],
      "metadata": {
        "id": "dyS6iRk-PyBN"
      }
    },
    {
      "cell_type": "markdown",
      "source": [
        "The __del__ method in Python is a special (dunder) method called a destructor. It is invoked when an object is about to be destroyed or garbage-collected."
      ],
      "metadata": {
        "id": "XJaWTtQHPziW"
      }
    },
    {
      "cell_type": "markdown",
      "source": [
        "Q22.What is the difference between @staticmethod and @classmethod in Python"
      ],
      "metadata": {
        "id": "lgoUTV8GP7o0"
      }
    },
    {
      "cell_type": "markdown",
      "source": [
        "@staticmethod → independent of class and instance.\n",
        "\n",
        "@classmethod → works with the class itself, can access class-level data."
      ],
      "metadata": {
        "id": "TPg99QGTP_j5"
      }
    },
    {
      "cell_type": "markdown",
      "source": [
        "Q23.How does polymorphism work in Python with inheritance"
      ],
      "metadata": {
        "id": "8t4n5p6NQMYF"
      }
    },
    {
      "cell_type": "markdown",
      "source": [
        "In Python, polymorphism with inheritance works by allowing a child class to override methods of a parent class, so that the same method call behaves differently depending on the object."
      ],
      "metadata": {
        "id": "uQRvZJYKQNrR"
      }
    },
    {
      "cell_type": "markdown",
      "source": [
        "Q24.What is method chaining in Python OOP"
      ],
      "metadata": {
        "id": "IAGGNP1xQUJN"
      }
    },
    {
      "cell_type": "markdown",
      "source": [
        "Method chaining in Python OOP is a technique where multiple methods are called sequentially on the same object in a single line."
      ],
      "metadata": {
        "id": "oJgfUTKAQVgI"
      }
    },
    {
      "cell_type": "markdown",
      "source": [
        "Q25.What is the purpose of the call method in Python?"
      ],
      "metadata": {
        "id": "KEISTieiQb67"
      }
    },
    {
      "cell_type": "markdown",
      "source": [
        "The __call__ method in Python is a special (dunder) method that allows an object of a class to be called like a function."
      ],
      "metadata": {
        "id": "wBqGgfC_QeMk"
      }
    },
    {
      "cell_type": "markdown",
      "source": [
        "## **Practical Questions**"
      ],
      "metadata": {
        "id": "fiCY3MkfQtlx"
      }
    },
    {
      "cell_type": "markdown",
      "source": [
        "Q1.Create a parent class Animal with a method speak() that prints a generic message. Create a child class Dog that overrides the speak() method to print \"Bark!\"."
      ],
      "metadata": {
        "id": "vwuhNkdaQ0Du"
      }
    },
    {
      "cell_type": "code",
      "execution_count": 1,
      "metadata": {
        "colab": {
          "base_uri": "https://localhost:8080/"
        },
        "id": "hW3v3HDCO2jO",
        "outputId": "d3fb88d9-0d94-4a55-cc68-e361ab98a9d3"
      },
      "outputs": [
        {
          "output_type": "stream",
          "name": "stdout",
          "text": [
            "This animal makes a sound.\n",
            "Bark!\n"
          ]
        }
      ],
      "source": [
        "\n",
        "class Animal:\n",
        "    def speak(self):\n",
        "        print(\"This animal makes a sound.\")\n",
        "\n",
        "\n",
        "class Dog(Animal):\n",
        "    def speak(self):\n",
        "        print(\"Bark!\")\n",
        "\n",
        "\n",
        "animal = Animal()\n",
        "animal.speak()\n",
        "\n",
        "dog = Dog()\n",
        "dog.speak()\n"
      ]
    },
    {
      "cell_type": "markdown",
      "source": [
        "Q2.Write a program to create an abstract class Shape with a method area(). Derive classes Circle and Rectangle from it and implement the area() method in both."
      ],
      "metadata": {
        "id": "70bneWCQRBY4"
      }
    },
    {
      "cell_type": "code",
      "source": [
        "from abc import ABC, abstractmethod\n",
        "import math\n",
        "\n",
        "# Abstract class\n",
        "class Shape(ABC):\n",
        "    @abstractmethod\n",
        "    def area(self):\n",
        "        pass\n",
        "\n",
        "# Derived class Circle\n",
        "class Circle(Shape):\n",
        "    def __init__(self, radius):\n",
        "        self.radius = radius\n",
        "\n",
        "    def area(self):\n",
        "        return math.pi * self.radius ** 2\n",
        "\n",
        "# Derived class Rectangle\n",
        "class Rectangle(Shape):\n",
        "    def __init__(self, width, height):\n",
        "        self.width = width\n",
        "        self.height = height\n",
        "\n",
        "    def area(self):\n",
        "        return self.width * self.height\n",
        "\n",
        "# Testing the classes\n",
        "circle = Circle(5)\n",
        "rectangle = Rectangle(4, 6)\n",
        "\n",
        "print(\"Area of Circle:\", circle.area())        # Output: Area of Circle: 78.53981633974483\n",
        "print(\"Area of Rectangle:\", rectangle.area())  # Output: Area of Rectangle: 24\n"
      ],
      "metadata": {
        "colab": {
          "base_uri": "https://localhost:8080/"
        },
        "id": "_rlpiMrdQ8S_",
        "outputId": "6e8252c2-4b75-49ef-ac33-10fc0c363922"
      },
      "execution_count": 3,
      "outputs": [
        {
          "output_type": "stream",
          "name": "stdout",
          "text": [
            "Area of Circle: 78.53981633974483\n",
            "Area of Rectangle: 24\n"
          ]
        }
      ]
    },
    {
      "cell_type": "markdown",
      "source": [
        "Q3.Implement a multi-level inheritance scenario where a class Vehicle has an attribute type. Derive a class Car and further derive a class ElectricCar that adds a battery attribute."
      ],
      "metadata": {
        "id": "sWoVpgr2RKxE"
      }
    },
    {
      "cell_type": "code",
      "source": [
        "# Base class\n",
        "class Vehicle:\n",
        "    def __init__(self, vehicle_type):\n",
        "        self.type = vehicle_type\n",
        "\n",
        "# Derived class\n",
        "class Car(Vehicle):\n",
        "    def __init__(self, vehicle_type, brand):\n",
        "        super().__init__(vehicle_type)\n",
        "        self.brand = brand\n",
        "\n",
        "# Further derived class\n",
        "class ElectricCar(Car):\n",
        "    def __init__(self, vehicle_type, brand, battery_capacity):\n",
        "        super().__init__(vehicle_type, brand)\n",
        "        self.battery = battery_capacity\n",
        "\n",
        "# Testing the classes\n",
        "ev = ElectricCar(\"Car\", \"Tesla\", \"100 kWh\")\n",
        "\n",
        "print(\"Type:\", ev.type)         # Output: Type: Car\n",
        "print(\"Brand:\", ev.brand)       # Output: Brand: Tesla\n",
        "print(\"Battery:\", ev.battery)   # Output: Battery: 100 kWh\n"
      ],
      "metadata": {
        "colab": {
          "base_uri": "https://localhost:8080/"
        },
        "id": "35wEkMTYRFFU",
        "outputId": "ae978129-0887-43e5-a04e-f1dbb6b74259"
      },
      "execution_count": 4,
      "outputs": [
        {
          "output_type": "stream",
          "name": "stdout",
          "text": [
            "Type: Car\n",
            "Brand: Tesla\n",
            "Battery: 100 kWh\n"
          ]
        }
      ]
    },
    {
      "cell_type": "markdown",
      "source": [
        "Q4.Demonstrate polymorphism by creating a base class Bird with a method fly(). Create two derived classes Sparrow and Penguin that override the fly() method."
      ],
      "metadata": {
        "id": "TyqgCj1MRpHF"
      }
    },
    {
      "cell_type": "code",
      "source": [
        "# Base class\n",
        "class Bird:\n",
        "    def fly(self):\n",
        "        print(\"Some birds can fly.\")\n",
        "\n",
        "# Derived class Sparrow\n",
        "class Sparrow(Bird):\n",
        "    def fly(self):\n",
        "        print(\"Sparrow is flying high!\")\n",
        "\n",
        "# Derived class Penguin\n",
        "class Penguin(Bird):\n",
        "    def fly(self):\n",
        "        print(\"Penguin cannot fly.\")\n",
        "\n",
        "# Testing polymorphism\n",
        "birds = [Sparrow(), Penguin()]\n",
        "\n",
        "for bird in birds:\n",
        "    bird.fly()\n"
      ],
      "metadata": {
        "colab": {
          "base_uri": "https://localhost:8080/"
        },
        "id": "FnCQvvnwRl3G",
        "outputId": "2c42746a-c22a-4fd3-da39-ed031c2eddcf"
      },
      "execution_count": 5,
      "outputs": [
        {
          "output_type": "stream",
          "name": "stdout",
          "text": [
            "Sparrow is flying high!\n",
            "Penguin cannot fly.\n"
          ]
        }
      ]
    },
    {
      "cell_type": "markdown",
      "source": [
        "Q5.Write a program to demonstrate encapsulation by creating a class BankAccount with private attributes balance and methods to deposit, withdraw, and check balance."
      ],
      "metadata": {
        "id": "gT7M9KrBRxoU"
      }
    },
    {
      "cell_type": "code",
      "source": [
        "# Class demonstrating encapsulation\n",
        "class BankAccount:\n",
        "    def __init__(self, initial_balance):\n",
        "        self.__balance = initial_balance  # private attribute\n",
        "\n",
        "    # Method to deposit money\n",
        "    def deposit(self, amount):\n",
        "        if amount > 0:\n",
        "            self.__balance += amount\n",
        "            print(f\"Deposited: ${amount}\")\n",
        "        else:\n",
        "            print(\"Invalid deposit amount.\")\n",
        "\n",
        "    # Method to withdraw money\n",
        "    def withdraw(self, amount):\n",
        "        if 0 < amount <= self.__balance:\n",
        "            self.__balance -= amount\n",
        "            print(f\"Withdrawn: ${amount}\")\n",
        "        else:\n",
        "            print(\"Insufficient balance or invalid amount.\")\n",
        "\n",
        "    # Method to check balance\n",
        "    def get_balance(self):\n",
        "        return self.__balance\n",
        "\n",
        "# Testing the class\n",
        "account = BankAccount(1000)\n",
        "account.deposit(500)          # Deposited: $500\n",
        "account.withdraw(300)         # Withdrawn: $300\n",
        "print(\"Current Balance:\", account.get_balance())  # Current Balance: 1200\n",
        "\n",
        "# Attempting direct access will fail\n",
        "# print(account.__balance)  # AttributeError\n"
      ],
      "metadata": {
        "colab": {
          "base_uri": "https://localhost:8080/"
        },
        "id": "PJo9hnPvRuMM",
        "outputId": "675451f0-6050-4434-bef1-cc53bc3b8c25"
      },
      "execution_count": 6,
      "outputs": [
        {
          "output_type": "stream",
          "name": "stdout",
          "text": [
            "Deposited: $500\n",
            "Withdrawn: $300\n",
            "Current Balance: 1200\n"
          ]
        }
      ]
    },
    {
      "cell_type": "markdown",
      "source": [
        "Q6.Demonstrate runtime polymorphism using a method play() in a base class Instrument. Derive classes Guitar and Piano that implement their own version of play()."
      ],
      "metadata": {
        "id": "g1tXMzviR6VB"
      }
    },
    {
      "cell_type": "code",
      "source": [
        "# Base class\n",
        "class Instrument:\n",
        "    def play(self):\n",
        "        print(\"Playing an instrument.\")\n",
        "\n",
        "# Derived class Guitar\n",
        "class Guitar(Instrument):\n",
        "    def play(self):\n",
        "        print(\"Strumming the guitar!\")\n",
        "\n",
        "# Derived class Piano\n",
        "class Piano(Instrument):\n",
        "    def play(self):\n",
        "        print(\"Playing the piano keys!\")\n",
        "\n",
        "# Testing runtime polymorphism\n",
        "instruments = [Guitar(), Piano()]\n",
        "\n",
        "for instrument in instruments:\n",
        "    instrument.play()\n"
      ],
      "metadata": {
        "colab": {
          "base_uri": "https://localhost:8080/"
        },
        "id": "He8tl5nXR2fH",
        "outputId": "215355b1-e9e8-4bbe-a8d8-8a19be0a1139"
      },
      "execution_count": 7,
      "outputs": [
        {
          "output_type": "stream",
          "name": "stdout",
          "text": [
            "Strumming the guitar!\n",
            "Playing the piano keys!\n"
          ]
        }
      ]
    },
    {
      "cell_type": "markdown",
      "source": [
        "Q7.Create a class MathOperations with a class method add_numbers() to add two numbers and a static method subtract_numbers() to subtract two numbers."
      ],
      "metadata": {
        "id": "krZZHAS6SCob"
      }
    },
    {
      "cell_type": "code",
      "source": [
        "class MathOperations:\n",
        "    # Class method\n",
        "    @classmethod\n",
        "    def add_numbers(cls, a, b):\n",
        "        return a + b\n",
        "\n",
        "    # Static method\n",
        "    @staticmethod\n",
        "    def subtract_numbers(a, b):\n",
        "        return a - b\n",
        "\n",
        "# Testing the methods\n",
        "print(\"Addition:\", MathOperations.add_numbers(10, 5))       # Output: Addition: 15\n",
        "print(\"Subtraction:\", MathOperations.subtract_numbers(10, 5)) # Output: Subtraction: 5\n"
      ],
      "metadata": {
        "colab": {
          "base_uri": "https://localhost:8080/"
        },
        "id": "_qUDBfERR_Hd",
        "outputId": "7d3f724c-7f6a-47ad-c517-2b4bf6843b9d"
      },
      "execution_count": 8,
      "outputs": [
        {
          "output_type": "stream",
          "name": "stdout",
          "text": [
            "Addition: 15\n",
            "Subtraction: 5\n"
          ]
        }
      ]
    },
    {
      "cell_type": "markdown",
      "source": [
        "Q8.Implement a class Person with a class method to count the total number of persons created."
      ],
      "metadata": {
        "id": "Y79Zmy2vSNBP"
      }
    },
    {
      "cell_type": "code",
      "source": [
        "class Person:\n",
        "    # Class variable to keep track of total persons\n",
        "    total_persons = 0\n",
        "\n",
        "    def __init__(self, name):\n",
        "        self.name = name\n",
        "        Person.total_persons += 1  # Increment count when a new person is created\n",
        "\n",
        "    # Class method to get total number of persons\n",
        "    @classmethod\n",
        "    def get_total_persons(cls):\n",
        "        return cls.total_persons\n",
        "\n",
        "# Creating instances\n",
        "p1 = Person(\"Alice\")\n",
        "p2 = Person(\"Bob\")\n",
        "p3 = Person(\"Charlie\")\n",
        "\n",
        "# Using class method to get total persons\n",
        "print(\"Total Persons:\", Person.get_total_persons())  # Output: Total Persons: 3\n"
      ],
      "metadata": {
        "colab": {
          "base_uri": "https://localhost:8080/"
        },
        "id": "xuLa9s62SI-A",
        "outputId": "509d6b68-8869-45f1-de48-97000d75bde1"
      },
      "execution_count": 9,
      "outputs": [
        {
          "output_type": "stream",
          "name": "stdout",
          "text": [
            "Total Persons: 3\n"
          ]
        }
      ]
    },
    {
      "cell_type": "markdown",
      "source": [
        "Q9.Write a class Fraction with attributes numerator and denominator. Override the str method to display the fraction as \"numerator/denominator\"."
      ],
      "metadata": {
        "id": "wORPvacSSWY-"
      }
    },
    {
      "cell_type": "code",
      "source": [
        "class Fraction:\n",
        "    def __init__(self, numerator, denominator):\n",
        "        self.numerator = numerator\n",
        "        self.denominator = denominator\n",
        "\n",
        "    # Overriding __str__ method\n",
        "    def __str__(self):\n",
        "        return f\"{self.numerator}/{self.denominator}\"\n",
        "\n",
        "# Testing the class\n",
        "frac = Fraction(3, 4)\n",
        "print(frac)  # Output: 3/4\n"
      ],
      "metadata": {
        "colab": {
          "base_uri": "https://localhost:8080/"
        },
        "id": "-j2V3VnhSSRV",
        "outputId": "d98b3b88-d884-4ffb-bbd9-f739b76c329d"
      },
      "execution_count": 10,
      "outputs": [
        {
          "output_type": "stream",
          "name": "stdout",
          "text": [
            "3/4\n"
          ]
        }
      ]
    },
    {
      "cell_type": "markdown",
      "source": [
        "Q10.Demonstrate operator overloading by creating a class Vector and overriding the add method to add two vectors."
      ],
      "metadata": {
        "id": "KECGWc4eSfId"
      }
    },
    {
      "cell_type": "code",
      "source": [
        "class Vector:\n",
        "    def __init__(self, x, y):\n",
        "        self.x = x\n",
        "        self.y = y\n",
        "\n",
        "    # Overloading the + operator\n",
        "    def __add__(self, other):\n",
        "        return Vector(self.x + other.x, self.y + other.y)\n",
        "\n",
        "    # Overriding __str__ for readable output\n",
        "    def __str__(self):\n",
        "        return f\"({self.x}, {self.y})\"\n",
        "\n",
        "# Testing operator overloading\n",
        "v1 = Vector(2, 3)\n",
        "v2 = Vector(4, 5)\n",
        "\n",
        "v3 = v1 + v2\n",
        "print(\"Resultant Vector:\", v3)  # Output: Resultant Vector: (6, 8)\n"
      ],
      "metadata": {
        "colab": {
          "base_uri": "https://localhost:8080/"
        },
        "id": "vV85O-7uSaxo",
        "outputId": "cb49946b-7ef6-479d-acb4-ad2f0bcc6a6e"
      },
      "execution_count": 11,
      "outputs": [
        {
          "output_type": "stream",
          "name": "stdout",
          "text": [
            "Resultant Vector: (6, 8)\n"
          ]
        }
      ]
    },
    {
      "cell_type": "markdown",
      "source": [
        "Q11.Create a class Person with attributes name and age. Add a method greet() that prints \"Hello, my name is {name} and I am {age} years old.\""
      ],
      "metadata": {
        "id": "SCsf82YFSrhH"
      }
    },
    {
      "cell_type": "code",
      "source": [
        "class Person:\n",
        "    def __init__(self, name, age):\n",
        "        self.name = name\n",
        "        self.age = age\n",
        "\n",
        "    # Method to greet\n",
        "    def greet(self):\n",
        "        print(f\"Hello, my name is {self.name} and I am {self.age} years old.\")\n",
        "\n",
        "# Testing the class\n",
        "person1 = Person(\"Alice\", 25)\n",
        "person1.greet()\n",
        "# Output: Hello, my name is Alice and I am 25 years old.\n"
      ],
      "metadata": {
        "colab": {
          "base_uri": "https://localhost:8080/"
        },
        "id": "z533D3hlSkYP",
        "outputId": "4e7d426b-c108-4c40-c9fb-f469ce6229a8"
      },
      "execution_count": 12,
      "outputs": [
        {
          "output_type": "stream",
          "name": "stdout",
          "text": [
            "Hello, my name is Alice and I am 25 years old.\n"
          ]
        }
      ]
    },
    {
      "cell_type": "markdown",
      "source": [
        "Q12.Implement a class Student with attributes name and grades. Create a method average_grade() to compute the average of the grades."
      ],
      "metadata": {
        "id": "KjsfWAB-S1BS"
      }
    },
    {
      "cell_type": "code",
      "source": [
        "class Student:\n",
        "    def __init__(self, name, grades):\n",
        "        self.name = name\n",
        "        self.grades = grades  # grades should be a list of numbers\n",
        "\n",
        "    # Method to compute average grade\n",
        "    def average_grade(self):\n",
        "        if not self.grades:\n",
        "            return 0\n",
        "        return sum(self.grades) / len(self.grades)\n",
        "\n",
        "# Testing the class\n",
        "student1 = Student(\"John\", [85, 90, 78, 92])\n",
        "print(f\"{student1.name}'s average grade: {student1.average_grade()}\")\n",
        "# Output: John's average grade: 86.25\n"
      ],
      "metadata": {
        "colab": {
          "base_uri": "https://localhost:8080/"
        },
        "id": "tEmZEXc4SwVy",
        "outputId": "e705a434-0a64-4a63-fc15-fc4153084734"
      },
      "execution_count": 13,
      "outputs": [
        {
          "output_type": "stream",
          "name": "stdout",
          "text": [
            "John's average grade: 86.25\n"
          ]
        }
      ]
    },
    {
      "cell_type": "markdown",
      "source": [
        "Q13.Create a class Rectangle with methods set_dimensions() to set the dimensions and area() to calculate the area."
      ],
      "metadata": {
        "id": "Mi2ROl0YS_yE"
      }
    },
    {
      "cell_type": "code",
      "source": [
        "class Rectangle:\n",
        "    def __init__(self):\n",
        "        self.length = 0\n",
        "        self.width = 0\n",
        "\n",
        "    # Method to set dimensions\n",
        "    def set_dimensions(self, length, width):\n",
        "        self.length = length\n",
        "        self.width = width\n",
        "\n",
        "    # Method to calculate area\n",
        "    def area(self):\n",
        "        return self.length * self.width\n",
        "\n",
        "# Testing the class\n",
        "rect = Rectangle()\n",
        "rect.set_dimensions(5, 3)\n",
        "print(\"Area of Rectangle:\", rect.area())  # Output: Area of Rectangle: 15\n"
      ],
      "metadata": {
        "colab": {
          "base_uri": "https://localhost:8080/"
        },
        "id": "bNcmXOJES6Jr",
        "outputId": "6818777d-9dda-4da7-b3e0-0316ec8ac585"
      },
      "execution_count": 14,
      "outputs": [
        {
          "output_type": "stream",
          "name": "stdout",
          "text": [
            "Area of Rectangle: 15\n"
          ]
        }
      ]
    },
    {
      "cell_type": "markdown",
      "source": [
        "Q14.Create a class Employee with a method calculate_salary() that computes the salary based on hours worked and hourly rate. Create a derived class Manager that adds a bonus to the salary."
      ],
      "metadata": {
        "id": "SG63lIS1TH5w"
      }
    },
    {
      "cell_type": "code",
      "source": [
        "# Base class\n",
        "class Employee:\n",
        "    def __init__(self, name, hours_worked, hourly_rate):\n",
        "        self.name = name\n",
        "        self.hours_worked = hours_worked\n",
        "        self.hourly_rate = hourly_rate\n",
        "\n",
        "    # Method to calculate salary\n",
        "    def calculate_salary(self):\n",
        "        return self.hours_worked * self.hourly_rate\n",
        "\n",
        "# Derived class\n",
        "class Manager(Employee):\n",
        "    def __init__(self, name, hours_worked, hourly_rate, bonus):\n",
        "        super().__init__(name, hours_worked, hourly_rate)\n",
        "        self.bonus = bonus\n",
        "\n",
        "    # Overriding calculate_salary to include bonus\n",
        "    def calculate_salary(self):\n",
        "        base_salary = super().calculate_salary()\n",
        "        return base_salary + self.bonus\n",
        "\n",
        "# Testing the classes\n",
        "emp = Employee(\"Alice\", 40, 20)\n",
        "mgr = Manager(\"Bob\", 40, 25, 500)\n",
        "\n",
        "print(f\"{emp.name}'s Salary: ${emp.calculate_salary()}\")  # Output: Alice's Salary: $800\n",
        "print(f\"{mgr.name}'s Salary: ${mgr.calculate_salary()}\")  # Output: Bob's Salary: $1500\n"
      ],
      "metadata": {
        "colab": {
          "base_uri": "https://localhost:8080/"
        },
        "id": "IUGwoWi0TEBZ",
        "outputId": "5ccf0232-e5f2-4045-8df3-d49614bb35fc"
      },
      "execution_count": 15,
      "outputs": [
        {
          "output_type": "stream",
          "name": "stdout",
          "text": [
            "Alice's Salary: $800\n",
            "Bob's Salary: $1500\n"
          ]
        }
      ]
    },
    {
      "cell_type": "markdown",
      "source": [
        "Q15.Create a class Product with attributes name, price, and quantity. Implement a method total_price() that calculates the total price of the product."
      ],
      "metadata": {
        "id": "JFS1aJXLTQe4"
      }
    },
    {
      "cell_type": "code",
      "source": [
        "class Product:\n",
        "    def __init__(self, name, price, quantity):\n",
        "        self.name = name\n",
        "        self.price = price\n",
        "        self.quantity = quantity\n",
        "\n",
        "    # Method to calculate total price\n",
        "    def total_price(self):\n",
        "        return self.price * self.quantity\n",
        "\n",
        "# Testing the class\n",
        "product1 = Product(\"Laptop\", 800, 3)\n",
        "print(f\"Total price of {product1.name}: ${product1.total_price()}\")\n",
        "# Output: Total price of Laptop: $2400\n"
      ],
      "metadata": {
        "colab": {
          "base_uri": "https://localhost:8080/"
        },
        "id": "yi5fb5zcTMzC",
        "outputId": "baa8b32b-12c8-4892-f5a2-9add98b74be6"
      },
      "execution_count": 16,
      "outputs": [
        {
          "output_type": "stream",
          "name": "stdout",
          "text": [
            "Total price of Laptop: $2400\n"
          ]
        }
      ]
    },
    {
      "cell_type": "markdown",
      "source": [
        "Q16.Create a class Animal with an abstract method sound(). Create two derived classes Cow and Sheep that implement the sound() method."
      ],
      "metadata": {
        "id": "gcRF4QFlTZrW"
      }
    },
    {
      "cell_type": "code",
      "source": [
        "from abc import ABC, abstractmethod\n",
        "\n",
        "# Abstract class\n",
        "class Animal(ABC):\n",
        "    @abstractmethod\n",
        "    def sound(self):\n",
        "        pass\n",
        "\n",
        "# Derived class Cow\n",
        "class Cow(Animal):\n",
        "    def sound(self):\n",
        "        print(\"Moo!\")\n",
        "\n",
        "# Derived class Sheep\n",
        "class Sheep(Animal):\n",
        "    def sound(self):\n",
        "        print(\"Baa!\")\n",
        "\n",
        "# Testing the classes\n",
        "cow = Cow()\n",
        "sheep = Sheep()\n",
        "\n",
        "cow.sound()   # Output: Moo!\n",
        "sheep.sound() # Output: Baa!\n"
      ],
      "metadata": {
        "colab": {
          "base_uri": "https://localhost:8080/"
        },
        "id": "vkyUzymOTWIp",
        "outputId": "f8948b3f-cf33-44bb-d6fe-320887bf8635"
      },
      "execution_count": 17,
      "outputs": [
        {
          "output_type": "stream",
          "name": "stdout",
          "text": [
            "Moo!\n",
            "Baa!\n"
          ]
        }
      ]
    },
    {
      "cell_type": "markdown",
      "source": [
        "Q17.Create a class Book with attributes title, author, and year_published. Add a method get_book_info() that returns a formatted string with the book's details."
      ],
      "metadata": {
        "id": "NVD5sA3rTi-Z"
      }
    },
    {
      "cell_type": "code",
      "source": [
        "class Book:\n",
        "    def __init__(self, title, author, year_published):\n",
        "        self.title = title\n",
        "        self.author = author\n",
        "        self.year_published = year_published\n",
        "\n",
        "    # Method to return book information\n",
        "    def get_book_info(self):\n",
        "        return f\"'{self.title}' by {self.author}, published in {self.year_published}\"\n",
        "\n",
        "# Testing the class\n",
        "book1 = Book(\"1984\", \"George Orwell\", 1949)\n",
        "print(book1.get_book_info())\n",
        "# Output: '1984' by George Orwell, published in 1949\n"
      ],
      "metadata": {
        "colab": {
          "base_uri": "https://localhost:8080/"
        },
        "id": "Pc87abzfTewO",
        "outputId": "3ba7e497-0b93-4648-ed15-fad7fce51fca"
      },
      "execution_count": 19,
      "outputs": [
        {
          "output_type": "stream",
          "name": "stdout",
          "text": [
            "'1984' by George Orwell, published in 1949\n"
          ]
        }
      ]
    },
    {
      "cell_type": "markdown",
      "source": [
        "Q18.Create a class House with attributes address and price. Create a derived class Mansion that adds an attribute number_of_rooms"
      ],
      "metadata": {
        "id": "cNXrveXqT_8w"
      }
    },
    {
      "cell_type": "code",
      "source": [
        "# Base class\n",
        "class House:\n",
        "    def __init__(self, address, price):\n",
        "        self.address = address\n",
        "        self.price = price\n",
        "\n",
        "# Derived class\n",
        "class Mansion(House):\n",
        "    def __init__(self, address, price, number_of_rooms):\n",
        "        super().__init__(address, price)\n",
        "        self.number_of_rooms = number_of_rooms\n",
        "\n",
        "# Testing the classes\n",
        "house = House(\"123 Maple Street\", 250000)\n",
        "mansion = Mansion(\"456 Oak Avenue\", 1500000, 10)\n",
        "\n",
        "print(f\"House Address: {house.address}, Price: ${house.price}\")\n",
        "# Output: House Address: 123 Maple Street, Price: $250000\n",
        "\n",
        "print(f\"Mansion Address: {mansion.address}, Price: ${mansion.price}, Rooms: {mansion.number_of_rooms}\")\n",
        "# Output: Mansion Address: 456 Oak Avenue, Price: $1500000, Rooms: 10\n"
      ],
      "metadata": {
        "colab": {
          "base_uri": "https://localhost:8080/"
        },
        "id": "GpfrOfC_Trjr",
        "outputId": "83589695-71b5-46cc-909c-45cfacec7201"
      },
      "execution_count": 21,
      "outputs": [
        {
          "output_type": "stream",
          "name": "stdout",
          "text": [
            "House Address: 123 Maple Street, Price: $250000\n",
            "Mansion Address: 456 Oak Avenue, Price: $1500000, Rooms: 10\n"
          ]
        }
      ]
    },
    {
      "cell_type": "code",
      "source": [],
      "metadata": {
        "id": "Yu9by8VlUEd0"
      },
      "execution_count": null,
      "outputs": []
    }
  ]
}