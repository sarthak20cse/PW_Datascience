{
  "nbformat": 4,
  "nbformat_minor": 0,
  "metadata": {
    "colab": {
      "provenance": []
    },
    "kernelspec": {
      "name": "python3",
      "display_name": "Python 3"
    },
    "language_info": {
      "name": "python"
    }
  },
  "cells": [
    {
      "cell_type": "markdown",
      "source": [
        "## **Data Types and Structures**\n",
        "## Assignment Questions"
      ],
      "metadata": {
        "id": "e8_VDmFsMJis"
      }
    },
    {
      "cell_type": "markdown",
      "source": [
        "# **Data Types and Structures Questions**\n",
        "\n",
        " 1. What are data structures, and why are they important\n",
        "\n",
        " 2. Explain the difference between mutable and immutable data types with examples\n",
        "\n",
        " 3. What are the main differences between lists and tuples in Python\n",
        "\n",
        " 4. Describe how dictionaries store data\n",
        "\n",
        " 5. Why might you use a set instead of a list in Python\n",
        "\n",
        " 6. What is a string in Python, and how is it different from a list\n",
        "\n",
        " 7. How do tuples ensure data integrity in Python\n",
        "\n",
        " 8. What is a hash table, and how does it relate to dictionaries in Python\n",
        "\n",
        " 9. Can lists contain different data types in Python\n",
        "\n",
        " 10. Explain why strings are immutable in Python\n",
        "\n",
        " 11. What advantages do dictionaries offer over lists for certain tasks\n",
        "\n",
        " 12. How do sets handle duplicate values in Python\n",
        "\n",
        " 13. Describe a scenario where using a tuple would be preferable over a list\n",
        "\n",
        " 14. How does the “in” keyword work differently for lists and dictionaries\n",
        "\n",
        " 15. Can you modify the elements of a tuple? Explain why or why not\n",
        "\n",
        " 16. What is a nested dictionary, and give an example of its use case\n",
        "\n",
        " 17. Describe the time complexity of accessing elements in a dictionary\n",
        "\n",
        " 18. In what situations are lists preferred over dictionaries\n",
        "\n",
        " 19. Why are dictionaries considered unordered, and how does that affect data retrieval\n",
        "\n",
        " 20. Explain the difference between a list and a dictionary in terms of data retrieval\n",
        "\n",
        "# **Practical Questions**\n",
        "\n",
        " 1. Write a code to create a string with your name and print it\n",
        "\n",
        " 2. Write a code to find the length of the string \"Hello World\"\n",
        "\n",
        " 3. Write a code to slice the first 3 characters from the string \"Python Programming\"\n",
        "\n",
        " 4. Write a code to convert the string \"hello\" to uppercase\n",
        "\n",
        " 5. Write a code to replace the word \"apple\" with \"orange\" in the string \"I like apple\"\n",
        "\n",
        " 6. Write a code to create a list with numbers 1 to 5 and print it\n",
        "\n",
        " 7. Write a code to append the number 10 to the list [1, 2, 3, 4]\n",
        "\n",
        " 8. Write a code to remove the number 3 from the list [1, 2, 3, 4, 5]\n",
        "\n",
        " 9. Write a code to access the second element in the list ['a', 'b', 'c', 'd']\n",
        "\n",
        " 10. Write a code to reverse the list [10, 20, 30, 40, 50].\n",
        "\n",
        " 11. Write a code to create a tuple with the elements 100, 200, 300 and print it.\n",
        " 12. Write a code to access the second-to-last element of the tuple ('red', 'green', 'blue', 'yellow').\n",
        " 13. Write a code to find the minimum number in the tuple (10, 20, 5, 15).\n",
        " 14. Write a code to find the index of the element \"cat\" in the tuple ('dog', 'cat', 'rabbit').\n",
        " 15. Write a code to create a tuple containing three different fruits and check if \"kiwi\" is in it.\n",
        " 16. Write a code to create a set with the elements 'a', 'b', 'c' and print it.\n",
        " 17. Write a code to clear all elements from the set {1, 2, 3, 4, 5}.\n",
        " 18. Write a code to remove the element 4 from the set {1, 2, 3, 4}.\n",
        " 19. Write a code to find the union of two sets {1, 2, 3} and {3, 4, 5}.\n",
        " 20. Write a code to find the intersection of two sets {1, 2, 3} and {2, 3, 4}.\n",
        " 21. Write a code to create a dictionary with the keys \"name\", \"age\", and \"city\", and print it.\n",
        " 22. Write a code to add a new key-value pair \"country\": \"USA\" to the dictionary {'name': 'John', 'age': 25}.\n",
        " result.(replaced)\n",
        " 23. Write a code to access the value associated with the key \"name\" in the dictionary {'name': 'Alice', 'age': 30}.\n",
        " 24. Write a code to remove the key \"age\" from the dictionary {'name': 'Bob', 'age': 22, 'city': 'New York'}.\n",
        " 25. Write a code to check if the key \"city\" exists in the dictionary {'name': 'Alice', 'city': 'Paris'}.\n",
        " 26. Write a code to create a list, a tuple, and a dictionary, and print them all.\n",
        " 27. Write a code to create a list of 5 random numbers between 1 and 100, sort it in ascending order, and print the\n",
        "28. Write a code to create a list with strings and print the element at the third index.\n",
        " 29. Write a code to combine two dictionaries into one and print the result.\n",
        " 30. Write a code to convert a list of strings into a set"
      ],
      "metadata": {
        "id": "17yhx7xXMSbZ"
      }
    },
    {
      "cell_type": "markdown",
      "source": [
        "Q1. What are data structures, and why are they important"
      ],
      "metadata": {
        "id": "ANIq5HoDNqxH"
      }
    },
    {
      "cell_type": "markdown",
      "source": [
        "A data structure is a way of organizing, storing, and managing data in a computer so it can be used efficiently.\n",
        "\n",
        "Efficient data management\n",
        "\n",
        "Optimized algorithms\n",
        "\n",
        "Better resource usage\n",
        "\n",
        "Scalability\n",
        "\n",
        "Foundation of software development"
      ],
      "metadata": {
        "id": "v7pR_WZgNvC2"
      }
    },
    {
      "cell_type": "markdown",
      "source": [
        "Q2.Explain the difference between mutable and immutable data types with examples"
      ],
      "metadata": {
        "id": "IrhInIGBKjcf"
      }
    },
    {
      "cell_type": "markdown",
      "source": [
        "Mutable → Can be changed in place.\n",
        "\n",
        "Immutable → Cannot be changed; new object is created if modification is attempted"
      ],
      "metadata": {
        "id": "exzKajX6KlVc"
      }
    },
    {
      "cell_type": "code",
      "execution_count": 1,
      "metadata": {
        "colab": {
          "base_uri": "https://localhost:8080/"
        },
        "id": "ZLpcQXXh9NcU",
        "outputId": "7c467313-8e29-460c-a034-bce394e5c95c"
      },
      "outputs": [
        {
          "output_type": "stream",
          "name": "stdout",
          "text": [
            "[10, 2, 3]\n"
          ]
        }
      ],
      "source": [
        "#Mutable Data Types\n",
        "my_list = [1, 2, 3]\n",
        "my_list[0] = 10\n",
        "print(my_list)\n"
      ]
    },
    {
      "cell_type": "code",
      "source": [
        "#Immutable Data Types\n",
        "my_str = \"hello\"\n",
        "new_str = my_str.replace(\"h\", \"y\")\n",
        "print(my_str)\n",
        "print(new_str)"
      ],
      "metadata": {
        "colab": {
          "base_uri": "https://localhost:8080/"
        },
        "id": "UmKhYVySK6bR",
        "outputId": "3432eeac-7f90-405f-a182-d98c65a7e263"
      },
      "execution_count": 3,
      "outputs": [
        {
          "output_type": "stream",
          "name": "stdout",
          "text": [
            "hello\n",
            "yello\n"
          ]
        }
      ]
    },
    {
      "cell_type": "markdown",
      "source": [
        "Q3.What are the main differences between lists and tuples in Python"
      ],
      "metadata": {
        "id": "_Tp3XCvYLRwF"
      }
    },
    {
      "cell_type": "markdown",
      "source": [
        "Use list when you need a dynamic, changeable collection.\n",
        "\n",
        "Use tuple when you want fixed, unchangeable data (like constants)."
      ],
      "metadata": {
        "id": "dWm7fMEELVnO"
      }
    },
    {
      "cell_type": "markdown",
      "source": [
        "Q4.Describe how dictionaries store data"
      ],
      "metadata": {
        "id": "b6CmvN_hLsrb"
      }
    },
    {
      "cell_type": "markdown",
      "source": [
        "A dictionary in Python is an unordered, mutable collection of key–value pairs where each key is unique and mapped to a specific value. Internally, it uses a hash table to store and quickly retrieve data based on keys."
      ],
      "metadata": {
        "id": "5DsgVAHjLvfW"
      }
    },
    {
      "cell_type": "markdown",
      "source": [
        "Q5.Why might you use a set instead of a list in Python"
      ],
      "metadata": {
        "id": "Z0_64W0VMJnJ"
      }
    },
    {
      "cell_type": "markdown",
      "source": [
        "Use a set when you want unique items, faster lookups, and set operations.\n",
        "Use a list when order matters or when you need duplicates."
      ],
      "metadata": {
        "id": "19AiMrDGMLzg"
      }
    },
    {
      "cell_type": "markdown",
      "source": [
        "Q6.What is a string in Python, and how is it different from a list"
      ],
      "metadata": {
        "id": "ckVj34LdMjV2"
      }
    },
    {
      "cell_type": "markdown",
      "source": [
        "String = immutable sequence of characters (used for text).\n",
        "\n",
        "List = mutable sequence of any objects (used for collections)."
      ],
      "metadata": {
        "id": "pTrAJq9uMlT4"
      }
    },
    {
      "cell_type": "markdown",
      "source": [
        "Q7.How do tuples ensure data integrity in Python"
      ],
      "metadata": {
        "id": "fhLZV9wHPMDU"
      }
    },
    {
      "cell_type": "markdown",
      "source": [
        "Tuples ensure data integrity by being immutable, making stored data safe from accidental or unauthorized modification."
      ],
      "metadata": {
        "id": "3iOgUjmPPN-d"
      }
    },
    {
      "cell_type": "markdown",
      "source": [
        "Q8.What is a hash table, and how does it relate to dictionaries in Python"
      ],
      "metadata": {
        "id": "BNnDT7lQPXEi"
      }
    },
    {
      "cell_type": "markdown",
      "source": [
        "A hash table is a data structure that stores data in key–value pairs and allows very fast lookups, insertions, and deletions (on average O(1) time).\n",
        "\n",
        "It uses a hash function to convert a key into a hash value (an integer).\n",
        "\n",
        "That hash value decides the index (slot) where the value will be stored in memory.\n"
      ],
      "metadata": {
        "id": "3Y2mHAzWbapK"
      }
    },
    {
      "cell_type": "code",
      "source": [
        "# In Python, a dictionary is implemented using a hash table internally.\n",
        "student = {\"name\": \"Alice\", \"age\": 21}\n",
        "# Python:\n",
        "# Hashes the key \"name\" → finds a slot → stores value \"Alice\"\n",
        "# Hashes the key \"age\" → finds another slot → stores value 21"
      ],
      "metadata": {
        "id": "Ocy7hh8WK_Iq"
      },
      "execution_count": 5,
      "outputs": []
    },
    {
      "cell_type": "markdown",
      "source": [
        "Q9.Can lists contain different data types in Python"
      ],
      "metadata": {
        "id": "D1wRy2-McLHg"
      }
    },
    {
      "cell_type": "markdown",
      "source": [
        "In Python, lists can contain different data types within the same list because Python lists are heterogeneous containers."
      ],
      "metadata": {
        "id": "jZIvZeZYcN5E"
      }
    },
    {
      "cell_type": "code",
      "source": [
        "my_list = [10, \"hello\", 3.14, True, [1, 2, 3]]\n",
        "print(my_list)\n",
        "# [10, 'hello', 3.14, True, [1, 2, 3]]\n"
      ],
      "metadata": {
        "colab": {
          "base_uri": "https://localhost:8080/"
        },
        "id": "8WerLV4Kb15m",
        "outputId": "27fe4d12-ee19-4512-844e-f4ca2c06aee0"
      },
      "execution_count": 6,
      "outputs": [
        {
          "output_type": "stream",
          "name": "stdout",
          "text": [
            "[10, 'hello', 3.14, True, [1, 2, 3]]\n"
          ]
        }
      ]
    },
    {
      "cell_type": "markdown",
      "source": [
        "Q10.Explain why strings are immutable in Python"
      ],
      "metadata": {
        "id": "SBczFXLWkxZ9"
      }
    },
    {
      "cell_type": "markdown",
      "source": [
        "immutability ensures strings are reliable, memory-efficient, and suitable for use in hash-based collections like dicts and sets."
      ],
      "metadata": {
        "id": "SNUcoD9skyz4"
      }
    },
    {
      "cell_type": "markdown",
      "source": [
        "Q11.What advantages do dictionaries offer over lists for certain tasks"
      ],
      "metadata": {
        "id": "CECjJsedmA1x"
      }
    },
    {
      "cell_type": "markdown",
      "source": [
        "1. Fast Access: Dictionaries provide O(1) lookup for values using keys, whereas lists require O(n) time to search.\n",
        "\n",
        "2. Meaningful Keys: Data is accessed via descriptive keys instead of numeric indices, improving readability.\n",
        "\n",
        "3. No Index Dependence: You don’t need to remember positions; each value has a clear key.\n",
        "\n",
        "4. Flexible and Dynamic: You can easily add, update, or delete key-value pairs.\n",
        "\n",
        "5. Efficient for Sparse Data: Dictionaries store only existing key-value pairs, saving memory for datasets with gaps.\n",
        "\n",
        "6. Better Organization: Ideal for mapping relationships, such as name → phone number, making code more intuitive."
      ],
      "metadata": {
        "id": "dwWupcs7mCkE"
      }
    },
    {
      "cell_type": "markdown",
      "source": [
        "Q12.How do sets handle duplicate values in Python\n",
        "\n",
        "\n"
      ],
      "metadata": {
        "id": "LssswbNIneiT"
      }
    },
    {
      "cell_type": "markdown",
      "source": [
        "In Python, sets automatically eliminate duplicate values. When you add elements to a set, it only keeps unique items, so any repeated value is ignored. This is because sets are unordered collections of distinct elements."
      ],
      "metadata": {
        "id": "6fRx3kO1nllG"
      }
    },
    {
      "cell_type": "markdown",
      "source": [
        "Q13.Describe a scenario where using a tuple would be preferable over a list"
      ],
      "metadata": {
        "id": "kc0xrbnBny6J"
      }
    },
    {
      "cell_type": "markdown",
      "source": [
        "A tuple is preferable over a list in scenarios where you want to store a collection of items that should not change, ensuring data integrity. Since tuples are immutable, they prevent accidental modification of their contents.\n",
        "\n",
        "Tuple: (28.6139, 77.2090) → Safe, fixed, cannot change.\n",
        "\n",
        "List: [28.6139, 77.2090] → Mutable, can be modified by mistake."
      ],
      "metadata": {
        "id": "j7N4P42Nn0wI"
      }
    },
    {
      "cell_type": "markdown",
      "source": [
        "Q14.How does the “in” keyword work differently for lists and dictionaries"
      ],
      "metadata": {
        "id": "niyC4D0G2O1T"
      }
    },
    {
      "cell_type": "markdown",
      "source": [
        "The in keyword in Python is used to check membership, but it behaves slightly differently for lists and dictionaries because of how each data structure stores data.\n",
        "\n",
        "List: in checks for a value anywhere in the list.\n",
        "\n",
        "Dictionary: in checks for a key, not a value."
      ],
      "metadata": {
        "id": "40dbztLs2doE"
      }
    },
    {
      "cell_type": "markdown",
      "source": [
        "Q15.Can you modify the elements of a tuple? Explain why or why not"
      ],
      "metadata": {
        "id": "eZvAcehz2lRW"
      }
    },
    {
      "cell_type": "markdown",
      "source": [
        "No, you cannot modify the elements of a tuple directly because tuples are immutable in Python.\n",
        "\n",
        "Immutability: Once a tuple is created, its elements cannot be changed, added, or removed. Python enforces this to ensure data integrity and allows tuples to be used as keys in dictionaries or stored in sets (which require hashable objects).\n",
        "\n",
        "Fixed memory structure: Tuples have a fixed size in memory. Modifying an element would require changing the memory layout, which is not allowed.\n"
      ],
      "metadata": {
        "id": "613dViJc2muN"
      }
    },
    {
      "cell_type": "code",
      "source": [
        "t = (1, 2, 3)\n",
        "# Trying to change the first element\n",
        "t[0] = 10   # ❌ This will raise a TypeError\n"
      ],
      "metadata": {
        "colab": {
          "base_uri": "https://localhost:8080/",
          "height": 176
        },
        "id": "OPlMypzcctQT",
        "outputId": "68f8055b-cb02-4160-d5ab-ad69a4ed3240"
      },
      "execution_count": 7,
      "outputs": [
        {
          "output_type": "error",
          "ename": "TypeError",
          "evalue": "'tuple' object does not support item assignment",
          "traceback": [
            "\u001b[0;31m---------------------------------------------------------------------------\u001b[0m",
            "\u001b[0;31mTypeError\u001b[0m                                 Traceback (most recent call last)",
            "\u001b[0;32m/tmp/ipython-input-3281126284.py\u001b[0m in \u001b[0;36m<cell line: 0>\u001b[0;34m()\u001b[0m\n\u001b[1;32m      1\u001b[0m \u001b[0mt\u001b[0m \u001b[0;34m=\u001b[0m \u001b[0;34m(\u001b[0m\u001b[0;36m1\u001b[0m\u001b[0;34m,\u001b[0m \u001b[0;36m2\u001b[0m\u001b[0;34m,\u001b[0m \u001b[0;36m3\u001b[0m\u001b[0;34m)\u001b[0m\u001b[0;34m\u001b[0m\u001b[0;34m\u001b[0m\u001b[0m\n\u001b[1;32m      2\u001b[0m \u001b[0;31m# Trying to change the first element\u001b[0m\u001b[0;34m\u001b[0m\u001b[0;34m\u001b[0m\u001b[0m\n\u001b[0;32m----> 3\u001b[0;31m \u001b[0mt\u001b[0m\u001b[0;34m[\u001b[0m\u001b[0;36m0\u001b[0m\u001b[0;34m]\u001b[0m \u001b[0;34m=\u001b[0m \u001b[0;36m10\u001b[0m   \u001b[0;31m# ❌ This will raise a TypeError\u001b[0m\u001b[0;34m\u001b[0m\u001b[0;34m\u001b[0m\u001b[0m\n\u001b[0m",
            "\u001b[0;31mTypeError\u001b[0m: 'tuple' object does not support item assignment"
          ]
        }
      ]
    },
    {
      "cell_type": "code",
      "source": [
        "t = (1, [2, 3], 4)\n",
        "t[1][0] = 20  # ✅ This works, the list inside the tuple is modified\n",
        "print(t)      # Output: (1, [20, 3], 4)\n"
      ],
      "metadata": {
        "colab": {
          "base_uri": "https://localhost:8080/"
        },
        "id": "OBvOYhga292K",
        "outputId": "0bfcacdc-cf9b-4126-edd9-9248b132762b"
      },
      "execution_count": 8,
      "outputs": [
        {
          "output_type": "stream",
          "name": "stdout",
          "text": [
            "(1, [20, 3], 4)\n"
          ]
        }
      ]
    },
    {
      "cell_type": "markdown",
      "source": [
        "Q16.What is a nested dictionary, and give an example of its use case"
      ],
      "metadata": {
        "id": "eXXmhb6P3DrB"
      }
    },
    {
      "cell_type": "markdown",
      "source": [
        "A nested dictionary in Python is a dictionary that contains another dictionary (or dictionaries) as its values. This allows you to represent more complex, hierarchical data structures.\n"
      ],
      "metadata": {
        "id": "Ts03icso3ePO"
      }
    },
    {
      "cell_type": "code",
      "source": [
        "students = {\n",
        "    \"Alice\": {\"Math\": 85, \"Science\": 92, \"English\": 88},\n",
        "    \"Bob\": {\"Math\": 78, \"Science\": 75, \"English\": 80},\n",
        "    \"Charlie\": {\"Math\": 90, \"Science\": 85, \"English\": 87}\n",
        "}\n",
        "\n",
        "# Accessing Bob's Science score\n",
        "print(students[\"Bob\"][\"Science\"])  # Output: 75\n",
        "\n",
        "# Adding a new subject for Alice\n",
        "students[\"Alice\"][\"History\"] = 95\n"
      ],
      "metadata": {
        "colab": {
          "base_uri": "https://localhost:8080/"
        },
        "id": "xqanmNas3AqY",
        "outputId": "f5dabeb3-8216-4a0d-e58f-f336d629ec84"
      },
      "execution_count": 9,
      "outputs": [
        {
          "output_type": "stream",
          "name": "stdout",
          "text": [
            "75\n"
          ]
        }
      ]
    },
    {
      "cell_type": "markdown",
      "source": [
        "Q17.Describe the time complexity of accessing elements in a dictionary"
      ],
      "metadata": {
        "id": "AiADwyoF3mvB"
      }
    },
    {
      "cell_type": "markdown",
      "source": [
        "dictionaries are implemented as hash tables, which affects their time complexity for different operations.\n",
        "\n",
        "Accessing Elements\n",
        "\n",
        "Operation: value = my_dict[key]\n",
        "\n",
        "Average Time Complexity: O(1) (constant time)\n",
        "\n",
        "This is because Python computes the hash of the key and directly finds the location of the value in memory.\n",
        "\n",
        "Worst-Case Time Complexity: O(n)\n",
        "\n",
        "Rare scenario: If many keys hash to the same slot (hash collision), Python may need to search through multiple items in that bucket."
      ],
      "metadata": {
        "id": "h4bvl9Tl3olI"
      }
    },
    {
      "cell_type": "markdown",
      "source": [
        "Q18.In what situations are lists preferred over dictionaries"
      ],
      "metadata": {
        "id": "YJdUNVEe34dK"
      }
    },
    {
      "cell_type": "markdown",
      "source": [
        "Use a list when you have an ordered collection of items and do not need to associate each element with a unique key.\n",
        "\n",
        "Use a dictionary when you need fast lookup by key or have data in key-value pairs."
      ],
      "metadata": {
        "id": "XHh5a2G736Qg"
      }
    },
    {
      "cell_type": "markdown",
      "source": [
        "Q19.Why are dictionaries considered unordered, and how does that affect data retrieval"
      ],
      "metadata": {
        "id": "CAhYrfx14IR-"
      }
    },
    {
      "cell_type": "markdown",
      "source": [
        "In Python, dictionaries are considered unordered because, historically, they do not guarantee that items are stored in any particular order. Instead of storing elements sequentially, dictionaries use a hash table, where each key is hashed to determine where its value is stored in memory."
      ],
      "metadata": {
        "id": "f7FFlrkh4R5Y"
      }
    },
    {
      "cell_type": "markdown",
      "source": [
        "Q20.Explain the difference between a list and a dictionary in terms of data retrieval"
      ],
      "metadata": {
        "id": "JevtsdJ_4S1X"
      }
    },
    {
      "cell_type": "markdown",
      "source": [
        "Use a list when you want position-based access or need an ordered sequence.\n",
        "\n",
        "Use a dictionary when you want fast, key-based access regardless of order."
      ],
      "metadata": {
        "id": "oEow-G-94W2W"
      }
    },
    {
      "cell_type": "markdown",
      "source": [
        "## Practical Questions"
      ],
      "metadata": {
        "id": "z5C8erPC46pw"
      }
    },
    {
      "cell_type": "markdown",
      "source": [
        "Q1.Write a code to create a string with your name and print it"
      ],
      "metadata": {
        "id": "1hcj1qj35Cey"
      }
    },
    {
      "cell_type": "code",
      "source": [
        "name = \"Sarthak Agrawal\"\n",
        "print(name)\n"
      ],
      "metadata": {
        "colab": {
          "base_uri": "https://localhost:8080/"
        },
        "id": "oNJ2Pebq3ibO",
        "outputId": "f60bb764-b674-40b3-c437-48ae360afc7a"
      },
      "execution_count": 10,
      "outputs": [
        {
          "output_type": "stream",
          "name": "stdout",
          "text": [
            "Sarthak Agrawal\n"
          ]
        }
      ]
    },
    {
      "cell_type": "markdown",
      "source": [
        "Q2.Write a code to find the length of the string \"Hello World\""
      ],
      "metadata": {
        "id": "Qa6ve2Eh5QH1"
      }
    },
    {
      "cell_type": "code",
      "source": [
        "text = \"Hello World\"\n",
        "length = len(text)\n",
        "print(length)\n"
      ],
      "metadata": {
        "colab": {
          "base_uri": "https://localhost:8080/"
        },
        "id": "HsnifR-o5MlE",
        "outputId": "98c733c6-2c31-453b-d0ca-0f78e70105ee"
      },
      "execution_count": 11,
      "outputs": [
        {
          "output_type": "stream",
          "name": "stdout",
          "text": [
            "11\n"
          ]
        }
      ]
    },
    {
      "cell_type": "markdown",
      "source": [
        "Q3.Write a code to slice the first 3 characters from the string \"Python Programming\""
      ],
      "metadata": {
        "id": "7l2KhRp75a5s"
      }
    },
    {
      "cell_type": "code",
      "source": [
        "text = \"Python Programming\"\n",
        "first_three = text[:3]\n",
        "print(first_three)\n"
      ],
      "metadata": {
        "colab": {
          "base_uri": "https://localhost:8080/"
        },
        "id": "N7OJum_Q5XyI",
        "outputId": "ffc5b606-d64a-41b4-9e72-ea08a5d16bef"
      },
      "execution_count": 13,
      "outputs": [
        {
          "output_type": "stream",
          "name": "stdout",
          "text": [
            "Pyt\n"
          ]
        }
      ]
    },
    {
      "cell_type": "markdown",
      "source": [
        "Q4.Write a code to convert the string \"hello\" to uppercase"
      ],
      "metadata": {
        "id": "iHRU_ViQ6v1J"
      }
    },
    {
      "cell_type": "code",
      "source": [
        "text = \"hello\"\n",
        "uppercase_text = text.upper()\n",
        "print(uppercase_text)"
      ],
      "metadata": {
        "colab": {
          "base_uri": "https://localhost:8080/"
        },
        "id": "vxjno98T6nZl",
        "outputId": "09a78db3-d7d0-4315-9eeb-17c233c864f6"
      },
      "execution_count": 14,
      "outputs": [
        {
          "output_type": "stream",
          "name": "stdout",
          "text": [
            "HELLO\n"
          ]
        }
      ]
    },
    {
      "cell_type": "markdown",
      "source": [
        "Q5.Write a code to replace the word \"apple\" with \"orange\" in the string \"I like apple\""
      ],
      "metadata": {
        "id": "eilf9fC364Lu"
      }
    },
    {
      "cell_type": "code",
      "source": [
        "text = \"I like apple\"\n",
        "new_text = text.replace(\"apple\", \"orange\")\n",
        "print(new_text)\n"
      ],
      "metadata": {
        "colab": {
          "base_uri": "https://localhost:8080/"
        },
        "id": "cXwid0V461j0",
        "outputId": "1c0434af-a417-4eba-e0eb-76089440c863"
      },
      "execution_count": 15,
      "outputs": [
        {
          "output_type": "stream",
          "name": "stdout",
          "text": [
            "I like orange\n"
          ]
        }
      ]
    },
    {
      "cell_type": "markdown",
      "source": [
        "Q6.Write a code to create a list with numbers 1 to 5 and print it"
      ],
      "metadata": {
        "id": "AK2E_hRI7Asu"
      }
    },
    {
      "cell_type": "code",
      "source": [
        "numbers = [1, 2, 3, 4, 5]\n",
        "print(numbers)\n"
      ],
      "metadata": {
        "colab": {
          "base_uri": "https://localhost:8080/"
        },
        "id": "uN75iv2c69EA",
        "outputId": "0aa2209e-1190-4d7e-a48d-104bc9c79728"
      },
      "execution_count": 16,
      "outputs": [
        {
          "output_type": "stream",
          "name": "stdout",
          "text": [
            "[1, 2, 3, 4, 5]\n"
          ]
        }
      ]
    },
    {
      "cell_type": "markdown",
      "source": [
        "Q7.Write a code to append the number 10 to the list [1, 2, 3, 4]"
      ],
      "metadata": {
        "id": "ODxMx2yY7HA-"
      }
    },
    {
      "cell_type": "code",
      "source": [
        "numbers = [1, 2, 3, 4]\n",
        "numbers.append(10)\n",
        "print(numbers)\n"
      ],
      "metadata": {
        "colab": {
          "base_uri": "https://localhost:8080/"
        },
        "id": "4YpYjHfv7EGW",
        "outputId": "78489f8d-c5d8-42d3-f1e2-bab8c87871a9"
      },
      "execution_count": 17,
      "outputs": [
        {
          "output_type": "stream",
          "name": "stdout",
          "text": [
            "[1, 2, 3, 4, 10]\n"
          ]
        }
      ]
    },
    {
      "cell_type": "markdown",
      "source": [
        "Q8.Write a code to remove the number 3 from the list [1, 2, 3, 4, 5]"
      ],
      "metadata": {
        "id": "ZNX8vSQY7OMw"
      }
    },
    {
      "cell_type": "code",
      "source": [
        "numbers = [1, 2, 3, 4, 5]\n",
        "numbers.remove(3)\n",
        "print(numbers)\n"
      ],
      "metadata": {
        "colab": {
          "base_uri": "https://localhost:8080/"
        },
        "id": "LfP08dgf7KrJ",
        "outputId": "605c91ca-9c9e-4892-f22d-a5f2b32bed08"
      },
      "execution_count": 18,
      "outputs": [
        {
          "output_type": "stream",
          "name": "stdout",
          "text": [
            "[1, 2, 4, 5]\n"
          ]
        }
      ]
    },
    {
      "cell_type": "markdown",
      "source": [
        "Q9.Write a code to access the second element in the list ['a', 'b', 'c', 'd']"
      ],
      "metadata": {
        "id": "6yWwlPLN7Vs6"
      }
    },
    {
      "cell_type": "code",
      "source": [
        "letters = ['a', 'b', 'c', 'd']\n",
        "second_element = letters[1]\n",
        "print(second_element)\n"
      ],
      "metadata": {
        "colab": {
          "base_uri": "https://localhost:8080/"
        },
        "id": "vZgWezqE7Sgq",
        "outputId": "f4a27a82-4d38-4c94-ee8b-5e435b83143e"
      },
      "execution_count": 19,
      "outputs": [
        {
          "output_type": "stream",
          "name": "stdout",
          "text": [
            "b\n"
          ]
        }
      ]
    },
    {
      "cell_type": "markdown",
      "source": [
        "Q10.Write a code to reverse the list [10, 20, 30, 40, 50]."
      ],
      "metadata": {
        "id": "ODeRxyOz7eEg"
      }
    },
    {
      "cell_type": "code",
      "source": [
        "numbers = [10, 20, 30, 40, 50]\n",
        "numbers.reverse()\n",
        "print(numbers)\n"
      ],
      "metadata": {
        "colab": {
          "base_uri": "https://localhost:8080/"
        },
        "id": "JBvRHk7C7ZZC",
        "outputId": "72d181e1-054a-4da8-8ae2-e4dd5603ba1c"
      },
      "execution_count": 20,
      "outputs": [
        {
          "output_type": "stream",
          "name": "stdout",
          "text": [
            "[50, 40, 30, 20, 10]\n"
          ]
        }
      ]
    },
    {
      "cell_type": "markdown",
      "source": [
        "Q11.Write a code to create a tuple with the elements 100, 200, 300 and print it."
      ],
      "metadata": {
        "id": "75Ry6pkqWu_U"
      }
    },
    {
      "cell_type": "code",
      "source": [
        "numbers = (100, 200, 300)\n",
        "print(numbers)\n"
      ],
      "metadata": {
        "colab": {
          "base_uri": "https://localhost:8080/"
        },
        "id": "qkOktxgQ7iNl",
        "outputId": "9cff8790-21b6-4de2-e870-e1bb30085c4b"
      },
      "execution_count": 1,
      "outputs": [
        {
          "output_type": "stream",
          "name": "stdout",
          "text": [
            "(100, 200, 300)\n"
          ]
        }
      ]
    },
    {
      "cell_type": "markdown",
      "source": [
        "Q12.Write a code to access the second-to-last element of the tuple ('red', 'green', 'blue', 'yellow')."
      ],
      "metadata": {
        "id": "asHS5-KNXExi"
      }
    },
    {
      "cell_type": "code",
      "source": [
        "colors = ('red', 'green', 'blue', 'yellow')\n",
        "second_last = colors[-2]\n",
        "print(second_last)\n"
      ],
      "metadata": {
        "colab": {
          "base_uri": "https://localhost:8080/"
        },
        "id": "Vp5jPNJdW02h",
        "outputId": "62038395-9376-4341-a36a-023571c60799"
      },
      "execution_count": 2,
      "outputs": [
        {
          "output_type": "stream",
          "name": "stdout",
          "text": [
            "blue\n"
          ]
        }
      ]
    },
    {
      "cell_type": "markdown",
      "source": [
        "Q13.Write a code to find the minimum number in the tuple (10, 20, 5, 15)."
      ],
      "metadata": {
        "id": "WD77lhm1Xbkz"
      }
    },
    {
      "cell_type": "code",
      "source": [
        "numbers = (10, 20, 5, 15)\n",
        "minimum = min(numbers)\n",
        "print(minimum)\n"
      ],
      "metadata": {
        "colab": {
          "base_uri": "https://localhost:8080/"
        },
        "id": "SZ1AVmB-XSuV",
        "outputId": "2f20e51e-b722-4b63-96a4-8f3335350e64"
      },
      "execution_count": 3,
      "outputs": [
        {
          "output_type": "stream",
          "name": "stdout",
          "text": [
            "5\n"
          ]
        }
      ]
    },
    {
      "cell_type": "markdown",
      "source": [
        "Q14.Write a code to find the index of the element \"cat\" in the tuple ('dog', 'cat', 'rabbit')."
      ],
      "metadata": {
        "id": "31CBDYfeY_-i"
      }
    },
    {
      "cell_type": "code",
      "source": [
        "animals = ('dog', 'cat', 'rabbit')\n",
        "index_of_cat = animals.index(\"cat\")\n",
        "print(index_of_cat)\n"
      ],
      "metadata": {
        "colab": {
          "base_uri": "https://localhost:8080/"
        },
        "id": "qDsCOYrfXnGk",
        "outputId": "185f24d5-a3ec-4301-b11c-1a666724a8aa"
      },
      "execution_count": 4,
      "outputs": [
        {
          "output_type": "stream",
          "name": "stdout",
          "text": [
            "1\n"
          ]
        }
      ]
    },
    {
      "cell_type": "markdown",
      "source": [
        "Q15.Write a code to create a tuple containing three different fruits and check if \"kiwi\" is in it."
      ],
      "metadata": {
        "id": "pZsUWzuNZVQG"
      }
    },
    {
      "cell_type": "code",
      "source": [
        "fruits = (\"apple\", \"banana\", \"orange\")\n",
        "\n",
        "if \"kiwi\" in fruits:\n",
        "    print(\"Kiwi is in the tuple.\")\n",
        "else:\n",
        "    print(\"Kiwi is not in the tuple.\")\n"
      ],
      "metadata": {
        "colab": {
          "base_uri": "https://localhost:8080/"
        },
        "id": "Hop2ARKiZGz3",
        "outputId": "eb1f0504-50bd-4513-dadf-fab2fa9a17d5"
      },
      "execution_count": 5,
      "outputs": [
        {
          "output_type": "stream",
          "name": "stdout",
          "text": [
            "Kiwi is not in the tuple.\n"
          ]
        }
      ]
    },
    {
      "cell_type": "markdown",
      "source": [
        "Q16.Write a code to create a set with the elements 'a', 'b', 'c' and print it."
      ],
      "metadata": {
        "id": "bSLQD2zfaOpw"
      }
    },
    {
      "cell_type": "code",
      "source": [
        "letters = {'a', 'b', 'c'}\n",
        "print(letters)\n"
      ],
      "metadata": {
        "colab": {
          "base_uri": "https://localhost:8080/"
        },
        "id": "PjpYok2XZlSD",
        "outputId": "23acc7f7-6815-4961-e69a-1e611b076159"
      },
      "execution_count": 6,
      "outputs": [
        {
          "output_type": "stream",
          "name": "stdout",
          "text": [
            "{'a', 'c', 'b'}\n"
          ]
        }
      ]
    },
    {
      "cell_type": "markdown",
      "source": [
        "Q17.Write a code to clear all elements from the set {1, 2, 3, 4, 5}."
      ],
      "metadata": {
        "id": "NUTrjVomacjQ"
      }
    },
    {
      "cell_type": "code",
      "source": [
        "numbers = {1, 2, 3, 4, 5}\n",
        "numbers.clear()\n",
        "print(numbers)\n"
      ],
      "metadata": {
        "colab": {
          "base_uri": "https://localhost:8080/"
        },
        "id": "OJGg_TStaYqI",
        "outputId": "9470735e-3016-4558-aea3-4fb2f6712691"
      },
      "execution_count": 7,
      "outputs": [
        {
          "output_type": "stream",
          "name": "stdout",
          "text": [
            "set()\n"
          ]
        }
      ]
    },
    {
      "cell_type": "markdown",
      "source": [
        "Q18.Write a code to remove the element 4 from the set {1, 2, 3, 4}."
      ],
      "metadata": {
        "id": "5rUoR8uJaml0"
      }
    },
    {
      "cell_type": "code",
      "source": [
        "numbers = {1, 2, 3, 4}\n",
        "numbers.remove(4)\n",
        "print(numbers)\n"
      ],
      "metadata": {
        "colab": {
          "base_uri": "https://localhost:8080/"
        },
        "id": "3wHrVTedaiE_",
        "outputId": "ddf5334d-0e03-46d8-c43c-d1547ff8922a"
      },
      "execution_count": 8,
      "outputs": [
        {
          "output_type": "stream",
          "name": "stdout",
          "text": [
            "{1, 2, 3}\n"
          ]
        }
      ]
    },
    {
      "cell_type": "markdown",
      "source": [
        "Q19.Write a code to find the union of two sets {1, 2, 3} and {3, 4, 5}."
      ],
      "metadata": {
        "id": "1nRF7e1nbIce"
      }
    },
    {
      "cell_type": "code",
      "source": [
        "set1 = {1, 2, 3}\n",
        "set2 = {3, 4, 5}\n",
        "union_set = set1.union(set2)\n",
        "print(union_set)\n"
      ],
      "metadata": {
        "colab": {
          "base_uri": "https://localhost:8080/"
        },
        "id": "JWXE5gsAa2y6",
        "outputId": "9462af9d-9c8f-42d2-c892-7b0b21f2ac12"
      },
      "execution_count": 9,
      "outputs": [
        {
          "output_type": "stream",
          "name": "stdout",
          "text": [
            "{1, 2, 3, 4, 5}\n"
          ]
        }
      ]
    },
    {
      "cell_type": "markdown",
      "source": [
        "Q20.Write a code to find the intersection of two sets {1, 2, 3} and {2, 3, 4}."
      ],
      "metadata": {
        "id": "MB4_myXBbeWE"
      }
    },
    {
      "cell_type": "code",
      "source": [
        "set1 = {1, 2, 3}\n",
        "set2 = {2, 3, 4}\n",
        "intersection_set = set1.intersection(set2)\n",
        "print(intersection_set)\n"
      ],
      "metadata": {
        "colab": {
          "base_uri": "https://localhost:8080/"
        },
        "id": "v4sE3_yDbO-H",
        "outputId": "c60728ab-f15f-4a05-a1ab-83c95670f2d1"
      },
      "execution_count": 10,
      "outputs": [
        {
          "output_type": "stream",
          "name": "stdout",
          "text": [
            "{2, 3}\n"
          ]
        }
      ]
    },
    {
      "cell_type": "markdown",
      "source": [
        "Q21.Write a code to create a dictionary with the keys \"name\", \"age\", and \"city\", and print it."
      ],
      "metadata": {
        "id": "ryB_8LR4bnSW"
      }
    },
    {
      "cell_type": "code",
      "source": [
        "person = {\n",
        "    \"name\": \"Alice\",\n",
        "    \"age\": 25,\n",
        "    \"city\": \"New York\"\n",
        "}\n",
        "\n",
        "print(person)\n"
      ],
      "metadata": {
        "colab": {
          "base_uri": "https://localhost:8080/"
        },
        "id": "H5u010MXbjJx",
        "outputId": "cf35b48a-0e05-43f4-a1ee-efe0ecfa0fc3"
      },
      "execution_count": 11,
      "outputs": [
        {
          "output_type": "stream",
          "name": "stdout",
          "text": [
            "{'name': 'Alice', 'age': 25, 'city': 'New York'}\n"
          ]
        }
      ]
    },
    {
      "cell_type": "markdown",
      "source": [
        "Q22.Write a code to add a new key-value pair \"country\": \"USA\" to the dictionary {'name': 'John', 'age': 25}. result.(replaced)"
      ],
      "metadata": {
        "id": "qprUDBbDbx-o"
      }
    },
    {
      "cell_type": "code",
      "source": [
        "person = {'name': 'John', 'age': 25}\n",
        "person['country'] = 'USA'\n",
        "print(person)\n"
      ],
      "metadata": {
        "colab": {
          "base_uri": "https://localhost:8080/"
        },
        "id": "uTlsGP6Hbs4r",
        "outputId": "2060b0af-d10e-4793-b24f-00d67c31e106"
      },
      "execution_count": 12,
      "outputs": [
        {
          "output_type": "stream",
          "name": "stdout",
          "text": [
            "{'name': 'John', 'age': 25, 'country': 'USA'}\n"
          ]
        }
      ]
    },
    {
      "cell_type": "markdown",
      "source": [
        "Q23.Write a code to access the value associated with the key \"name\" in the dictionary {'name': 'Alice', 'age': 30}."
      ],
      "metadata": {
        "id": "mhDbALKWb_56"
      }
    },
    {
      "cell_type": "code",
      "source": [
        "person = {'name': 'Alice', 'age': 30}\n",
        "name_value = person['name']\n",
        "print(name_value)\n"
      ],
      "metadata": {
        "colab": {
          "base_uri": "https://localhost:8080/"
        },
        "id": "fIo4oTnLb3Np",
        "outputId": "23bdcda0-1f62-4c62-c08a-6674779e0565"
      },
      "execution_count": 13,
      "outputs": [
        {
          "output_type": "stream",
          "name": "stdout",
          "text": [
            "Alice\n"
          ]
        }
      ]
    },
    {
      "cell_type": "markdown",
      "source": [
        "Q24. Write a code to remove the key \"age\" from the dictionary {'name': 'Bob', 'age': 22, 'city': 'New York'}."
      ],
      "metadata": {
        "id": "X-GMzE49cH0h"
      }
    },
    {
      "cell_type": "code",
      "source": [
        "person = {'name': 'Bob', 'age': 22, 'city': 'New York'}\n",
        "person.pop('age')\n",
        "print(person)"
      ],
      "metadata": {
        "colab": {
          "base_uri": "https://localhost:8080/"
        },
        "id": "9nkhOFzicEcl",
        "outputId": "fb83a731-c279-4762-b8a3-5c7e026fdfc7"
      },
      "execution_count": 14,
      "outputs": [
        {
          "output_type": "stream",
          "name": "stdout",
          "text": [
            "{'name': 'Bob', 'city': 'New York'}\n"
          ]
        }
      ]
    },
    {
      "cell_type": "markdown",
      "source": [
        "Q25.Write a code to check if the key \"city\" exists in the dictionary {'name': 'Alice', 'city': 'Paris'}."
      ],
      "metadata": {
        "id": "qledr8-6cVaX"
      }
    },
    {
      "cell_type": "code",
      "source": [
        "person = {'name': 'Alice', 'city': 'Paris'}\n",
        "\n",
        "if 'city' in person:\n",
        "    print(\"Key 'city' exists in the dictionary.\")\n",
        "else:\n",
        "    print(\"Key 'city' does not exist in the dictionary.\")\n"
      ],
      "metadata": {
        "colab": {
          "base_uri": "https://localhost:8080/"
        },
        "id": "qP_yqBrUcRED",
        "outputId": "7ddf4bec-5f9c-43e3-9ed4-4412393f8838"
      },
      "execution_count": 15,
      "outputs": [
        {
          "output_type": "stream",
          "name": "stdout",
          "text": [
            "Key 'city' exists in the dictionary.\n"
          ]
        }
      ]
    },
    {
      "cell_type": "markdown",
      "source": [
        "Q26.Write a code to create a list, a tuple, and a dictionary, and print them all."
      ],
      "metadata": {
        "id": "0CMdYIv3cegG"
      }
    },
    {
      "cell_type": "code",
      "source": [
        "# Creating a list\n",
        "my_list = [1, 2, 3]\n",
        "\n",
        "# Creating a tuple\n",
        "my_tuple = (4, 5, 6)\n",
        "\n",
        "# Creating a dictionary\n",
        "my_dict = {'name': 'Alice', 'age': 25}\n",
        "\n",
        "# Printing all\n",
        "print(\"List:\", my_list)\n",
        "print(\"Tuple:\", my_tuple)\n",
        "print(\"Dictionary:\", my_dict)\n"
      ],
      "metadata": {
        "colab": {
          "base_uri": "https://localhost:8080/"
        },
        "id": "gLFWlvdSc7G9",
        "outputId": "c0f89b60-8ee9-48bc-da94-1dab3c9336b3"
      },
      "execution_count": 16,
      "outputs": [
        {
          "output_type": "stream",
          "name": "stdout",
          "text": [
            "List: [1, 2, 3]\n",
            "Tuple: (4, 5, 6)\n",
            "Dictionary: {'name': 'Alice', 'age': 25}\n"
          ]
        }
      ]
    },
    {
      "cell_type": "markdown",
      "source": [
        "Q27.Write a code to create a list of 5 random numbers between 1 and 100, sort it in ascending order, and print the"
      ],
      "metadata": {
        "id": "y0pHWjkQciZ9"
      }
    },
    {
      "cell_type": "code",
      "source": [
        "import random\n",
        "\n",
        "# Create a list of 5 random numbers between 1 and 100\n",
        "numbers = [random.randint(1, 100) for _ in range(5)]\n",
        "\n",
        "# Sort the list in ascending order\n",
        "numbers.sort()\n",
        "\n",
        "# Print the sorted list\n",
        "print(numbers)\n"
      ],
      "metadata": {
        "colab": {
          "base_uri": "https://localhost:8080/"
        },
        "id": "LP7gy_yjdRE9",
        "outputId": "d8599336-5e89-4ec2-daad-35d41be027ad"
      },
      "execution_count": 17,
      "outputs": [
        {
          "output_type": "stream",
          "name": "stdout",
          "text": [
            "[5, 58, 72, 87, 98]\n"
          ]
        }
      ]
    },
    {
      "cell_type": "markdown",
      "source": [
        "Q28.Write a code to create a list with strings and print the element at the third index."
      ],
      "metadata": {
        "id": "hFT3e5kOclBE"
      }
    },
    {
      "cell_type": "code",
      "source": [
        "# Create a list of strings\n",
        "fruits = [\"apple\", \"banana\", \"cherry\", \"date\", \"elderberry\"]\n",
        "\n",
        "# Access and print the element at the third index\n",
        "print(fruits[3])\n"
      ],
      "metadata": {
        "colab": {
          "base_uri": "https://localhost:8080/"
        },
        "id": "zbdBrTqAdVxw",
        "outputId": "dd43e5b2-9882-4b73-e6a7-88b3b8c0048b"
      },
      "execution_count": 18,
      "outputs": [
        {
          "output_type": "stream",
          "name": "stdout",
          "text": [
            "date\n"
          ]
        }
      ]
    },
    {
      "cell_type": "markdown",
      "source": [
        "Q29.Write a code to combine two dictionaries into one and print the result."
      ],
      "metadata": {
        "id": "XYx0nA42cnNs"
      }
    },
    {
      "cell_type": "code",
      "source": [
        "# Two dictionaries\n",
        "dict1 = {'a': 1, 'b': 2}\n",
        "dict2 = {'c': 3, 'd': 4}\n",
        "\n",
        "# Combine dictionaries\n",
        "combined_dict = {**dict1, **dict2}\n",
        "\n",
        "# Print the result\n",
        "print(combined_dict)\n"
      ],
      "metadata": {
        "colab": {
          "base_uri": "https://localhost:8080/"
        },
        "id": "tvSZA3sZdcsY",
        "outputId": "708a65a4-8f2c-4df6-e992-13a382a55b7c"
      },
      "execution_count": 19,
      "outputs": [
        {
          "output_type": "stream",
          "name": "stdout",
          "text": [
            "{'a': 1, 'b': 2, 'c': 3, 'd': 4}\n"
          ]
        }
      ]
    },
    {
      "cell_type": "markdown",
      "source": [
        "Q30.Write a code to convert a list of strings into a set"
      ],
      "metadata": {
        "id": "Hu0MEZgFcr8r"
      }
    },
    {
      "cell_type": "code",
      "source": [
        "# List of strings\n",
        "fruits_list = [\"apple\", \"banana\", \"apple\", \"cherry\"]\n",
        "\n",
        "# Convert list to set\n",
        "fruits_set = set(fruits_list)\n",
        "\n",
        "# Print the set\n",
        "print(fruits_set)\n"
      ],
      "metadata": {
        "colab": {
          "base_uri": "https://localhost:8080/"
        },
        "id": "UxITHxlsdiNa",
        "outputId": "5f47b277-6550-414b-abbc-3b24ec8f96bd"
      },
      "execution_count": 20,
      "outputs": [
        {
          "output_type": "stream",
          "name": "stdout",
          "text": [
            "{'cherry', 'apple', 'banana'}\n"
          ]
        }
      ]
    },
    {
      "cell_type": "code",
      "source": [],
      "metadata": {
        "id": "jxxzHIdkcZ1y"
      },
      "execution_count": null,
      "outputs": []
    }
  ]
}