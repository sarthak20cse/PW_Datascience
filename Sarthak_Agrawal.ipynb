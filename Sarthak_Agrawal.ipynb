{
  "nbformat": 4,
  "nbformat_minor": 0,
  "metadata": {
    "colab": {
      "provenance": []
    },
    "kernelspec": {
      "name": "python3",
      "display_name": "Python 3"
    },
    "language_info": {
      "name": "python"
    }
  },
  "cells": [
    {
      "cell_type": "markdown",
      "source": [
        "### **Python Basic**\n",
        "### Assignment Question\n",
        "# Python Basics Questions\n",
        "\n",
        "\n",
        "1. What is Python, and why is it popular\n",
        "\n",
        "2. What is an interpreter in Python\n",
        "\n",
        " 3. What are pre-defined keywords in Python\n",
        "\n",
        " 4. Can keywords be used as variable names\n",
        "\n",
        " 5. What is mutability in Python\n",
        "\n",
        " 6. Why are lists mutable, but tuples are immutable\n",
        "\n",
        " 7. What is the difference between “==” and “is” operators in Python\n",
        "\n",
        " 8. What are logical operators in Python\n",
        "\n",
        " 9. What is type casting in Python\n",
        "\n",
        " 10. What is the difference between implicit and explicit type casting\n",
        "\n",
        " 11. What is the purpose of conditional statements in Python\n",
        "\n",
        " 12. How does the elif statement work\n",
        "\n",
        " 13. What is the difference between for and while loops\n",
        "\n",
        " 14. Describe a scenario where a while loop is more suitable than a for loop.\n",
        "# Practical Questions\n",
        "1. Write a Python program to print \"Hello, World!\n",
        "\n",
        "2. Write a Python program that displays your name and age\n",
        "\n",
        "3. Write code to print all the pre-defined keywords in Python using the keyword library\n",
        "\n",
        "4. Write a program that checks if a given word is a Python keyword.\n",
        "\n",
        "5. Create a list and tuple in Python, and demonstrate how attempting to change an element works differently\n",
        "for each.\n",
        "\n",
        "6. Write a function to demonstrate the behavior of mutable and immutable arguments.\n",
        "\n",
        "7. Write a program that performs basic arithmetic operations on two user-input numbers.\n",
        "\n",
        "8. Write a program to demonstrate the use of logical operators.\n",
        "\n",
        "9. Write a Python program to convert user input from string to integer, float, and boolean types.\n",
        "\n",
        "10. Write code to demonstrate type casting with list elements.\n",
        "\n",
        "11. Write a program that checks if a number is positive, negative, or zero.\n",
        "\n",
        "12. Write a for loop to print numbers from 1 to 10.\n",
        "\n",
        "13. Write a Python program to find the sum of all even numbers between 1 and 50.\n",
        "\n",
        "14. Write a program to reverse a string using a while loop.\n",
        "\n",
        "15. Write a Python program to calculate the factorial of a number provided by the user using a while loop\n"
      ],
      "metadata": {
        "id": "HSyQ1v7TcLcR"
      }
    },
    {
      "cell_type": "markdown",
      "source": [
        "## **Python Basics Questions**"
      ],
      "metadata": {
        "id": "Dd7JbjUAe57t"
      }
    },
    {
      "cell_type": "markdown",
      "source": [
        "Q1.What is Python, and why is it popular"
      ],
      "metadata": {
        "id": "4cMUCJYTfDoQ"
      }
    },
    {
      "cell_type": "markdown",
      "source": [
        "Python is language of coding which is used to command the machine to work\n",
        "Pythin is very popular because it's haveing many liberaries , and high in demand in the compaines beacause of the data analysis facility and easy to learn language"
      ],
      "metadata": {
        "id": "2l5pkeytfF6d"
      }
    },
    {
      "cell_type": "markdown",
      "source": [
        "Q2. What is an interpreter in Python"
      ],
      "metadata": {
        "id": "pcTmn9di0RTr"
      }
    },
    {
      "cell_type": "markdown",
      "source": [
        "an interpreter is the program that directly executes Python code line by line, without converting it into machine code beforehand"
      ],
      "metadata": {
        "id": "AHHSJHqo0Vtb"
      }
    },
    {
      "cell_type": "markdown",
      "source": [
        "Q3.What are pre-defined keywords in Python"
      ],
      "metadata": {
        "id": "DCB_2hIouaIF"
      }
    },
    {
      "cell_type": "code",
      "execution_count": 1,
      "metadata": {
        "colab": {
          "base_uri": "https://localhost:8080/"
        },
        "id": "q4M0bU9bb5as",
        "outputId": "d60bcaa2-29b5-414e-9dd3-87f5f4947674"
      },
      "outputs": [
        {
          "output_type": "stream",
          "name": "stdout",
          "text": [
            "['False', 'None', 'True', 'and', 'as', 'assert', 'async', 'await', 'break', 'class', 'continue', 'def', 'del', 'elif', 'else', 'except', 'finally', 'for', 'from', 'global', 'if', 'import', 'in', 'is', 'lambda', 'nonlocal', 'not', 'or', 'pass', 'raise', 'return', 'try', 'while', 'with', 'yield']\n"
          ]
        }
      ],
      "source": [
        "import keyword\n",
        "print(keyword.kwlist)"
      ]
    },
    {
      "cell_type": "markdown",
      "source": [
        "Q4. Can keywords be used as variable names"
      ],
      "metadata": {
        "id": "iaxEaemkFFbF"
      }
    },
    {
      "cell_type": "markdown",
      "source": [
        "No, keywords cannot be used as variable names in Python."
      ],
      "metadata": {
        "id": "5Qg52SVYFKZe"
      }
    },
    {
      "cell_type": "markdown",
      "source": [
        "Q5.What is mutability in Python"
      ],
      "metadata": {
        "id": "drgt6j0VFYhL"
      }
    },
    {
      "cell_type": "markdown",
      "source": [
        "In Python, mutability refers to whether or not an object’s value can be changed after it is created."
      ],
      "metadata": {
        "id": "RUs_H14bFaJk"
      }
    },
    {
      "cell_type": "markdown",
      "source": [
        "Q6.Why are lists mutable, but tuples are immutable"
      ],
      "metadata": {
        "id": "p6VNg71TGF4x"
      }
    },
    {
      "cell_type": "markdown",
      "source": [
        "A List is used for keeping a collection of objects whose contents can differ:\n",
        "\n",
        "You can add, remove or modify elements.\n",
        "\n",
        "Internally, lists in Python are dynamic arrays.\n",
        "\n",
        "When you modify a list (e.g., append, insert), Python changes the existing object rather than creating a new one.\n",
        "\n",
        "lst = [1, 2, 3]\n",
        "lst.append(4)  # modifies the same list\n",
        "print(lst)    # [1, 2, 3, 4]\n",
        "\n",
        " Tuples are immutable\n",
        "\n",
        "A tuple is supposed to be an immuable collection of elements.\n",
        "\n",
        "Once prepared, it cannot be revised:\n",
        "\n",
        "No append, no remove, no item assigning.\n",
        "\n",
        "This immutability makes tuples:\n",
        "\n",
        "Hashable (if the elements are hashable), and hence can act as dictionary keys or set members.\n",
        "\n",
        "More memory-efficient and faster at certain operations.\n",
        "\n",
        "t = (1, 2, 3)\n",
        "# t[0] = 10  "
      ],
      "metadata": {
        "id": "skZPYcgBGM4L"
      }
    },
    {
      "cell_type": "markdown",
      "source": [
        "Q7.What is the difference between “==” and “is” operators in Python"
      ],
      "metadata": {
        "id": "UiYM2VBkLAIK"
      }
    },
    {
      "cell_type": "markdown",
      "source": [
        "== → compares values (what’s inside).\n",
        "\n",
        "is → compares identity (memory address / object reference)."
      ],
      "metadata": {
        "id": "poZjnDEJLDeh"
      }
    },
    {
      "cell_type": "markdown",
      "source": [
        "Q8.What are logical operators in Python"
      ],
      "metadata": {
        "id": "kh1iSkTcLVsf"
      }
    },
    {
      "cell_type": "markdown",
      "source": [
        "logical operators are used to combine conditional statements (expressions that evaluate to True or False)."
      ],
      "metadata": {
        "id": "QKWXCp93LcTc"
      }
    },
    {
      "cell_type": "markdown",
      "source": [
        "Q9.What is type casting in Python"
      ],
      "metadata": {
        "id": "d6BueLobPOf6"
      }
    },
    {
      "cell_type": "markdown",
      "source": [
        "Type casting in Python means converting one data type into another.\n",
        "\n",
        "For example, you might want to convert a string \"10\" into an integer 10, or a float 3.5 into an integer 3.\n",
        "\n",
        "Two types of casting:\n",
        "\n",
        "Implicit Type Casting (Type Conversion)\n",
        "\n",
        "Python automatically converts a smaller data type into a larger one to avoid data loss.\n",
        "\n",
        "Explicit Type Casting (Type Casting)\n",
        "\n",
        "You manually convert one type into another using built-in functions:\n",
        "\n",
        "int() → converts to integer\n",
        "\n",
        "float() → converts to float\n",
        "\n",
        "str() → converts to string\n",
        "\n",
        "list(), tuple(), set() → convert between collections"
      ],
      "metadata": {
        "id": "IUoDxi0bQVLn"
      }
    },
    {
      "cell_type": "markdown",
      "source": [
        "Q10.What is the difference between implicit and explicit type casting"
      ],
      "metadata": {
        "id": "JMbMLmyQTI-n"
      }
    },
    {
      "cell_type": "markdown",
      "source": [
        "Implicit casting = Python does it for you, automatically and safely.\n",
        "\n",
        "Explicit casting = You do it yourself, using functions like int(), float(), str(), etc."
      ],
      "metadata": {
        "id": "_Ogh0rZjTPhk"
      }
    },
    {
      "cell_type": "markdown",
      "source": [
        "Q11.What is the purpose of conditional statements in Python"
      ],
      "metadata": {
        "id": "Snpa38e0X1UL"
      }
    },
    {
      "cell_type": "markdown",
      "source": [
        "The purpose of conditional statements in Python is to let your program make decisions and execute different blocks of code depending on conditions (whether something is True or False)."
      ],
      "metadata": {
        "id": "r6AUu82FXzvL"
      }
    },
    {
      "cell_type": "markdown",
      "source": [
        "Q12.How does the elif statement work"
      ],
      "metadata": {
        "id": "TFVwSzJvcCZ7"
      }
    },
    {
      "cell_type": "markdown",
      "source": [
        "elif is used when you want to test more than two possible conditions, instead of nesting multiple if...else statements."
      ],
      "metadata": {
        "id": "nj9Izm6DcBGC"
      }
    },
    {
      "cell_type": "markdown",
      "source": [
        "Q13.What is the difference between for and while loops"
      ],
      "metadata": {
        "id": "mk69smmJcHQZ"
      }
    },
    {
      "cell_type": "markdown",
      "source": [
        "Use for when you know how many times to repeat.\n",
        "\n",
        "Use while when you only know the condition that must stay true."
      ],
      "metadata": {
        "id": "ijURxTvCcN8l"
      }
    },
    {
      "cell_type": "markdown",
      "source": [
        "Q14.Describe a scenario where a while loop is more suitable than a for loop."
      ],
      "metadata": {
        "id": "1Yv8flHHjlQx"
      }
    },
    {
      "cell_type": "markdown",
      "source": [
        "A while loop is more suitable when you don’t know in advance how many times the loop will run, but you know the condition under which it should keep running.\n",
        "\n",
        "Waiting for a sensor value to reach a threshold.\n",
        "\n",
        "Continuously checking if a network connection is still active.\n",
        "\n",
        "Running a game loop until the player loses."
      ],
      "metadata": {
        "id": "RBtN2KdJjnce"
      }
    },
    {
      "cell_type": "markdown",
      "source": [
        "## Practical Questions"
      ],
      "metadata": {
        "id": "0wgELt3ekMFY"
      }
    },
    {
      "cell_type": "markdown",
      "source": [
        "Q1.Write a Python program to print \"Hello, World!"
      ],
      "metadata": {
        "id": "CYfghs_1kR-e"
      }
    },
    {
      "cell_type": "code",
      "source": [
        "print(\"Hello,World!\")"
      ],
      "metadata": {
        "colab": {
          "base_uri": "https://localhost:8080/"
        },
        "id": "S9K03zBGCgYp",
        "outputId": "688f9eaa-0c85-44b6-a984-0807fae81eaf"
      },
      "execution_count": null,
      "outputs": [
        {
          "output_type": "stream",
          "name": "stdout",
          "text": [
            "Hello,World!\n"
          ]
        }
      ]
    },
    {
      "cell_type": "markdown",
      "source": [
        "Q2.Write a Python program that displays your name and age"
      ],
      "metadata": {
        "id": "xvEitRDfkh3_"
      }
    },
    {
      "cell_type": "code",
      "source": [
        "Name=\"Sarthak Agrawal\"\n",
        "Age=23\n",
        "print(Name,\"and\", Age)"
      ],
      "metadata": {
        "colab": {
          "base_uri": "https://localhost:8080/"
        },
        "id": "ev2Zv1pRkbb9",
        "outputId": "c08703cd-10e8-4a8d-c2cc-d5b3bfed999c"
      },
      "execution_count": 2,
      "outputs": [
        {
          "output_type": "stream",
          "name": "stdout",
          "text": [
            "Sarthak Agrawal and 23\n"
          ]
        }
      ]
    },
    {
      "cell_type": "markdown",
      "source": [
        "Q3.Write code to print all the pre-defined keywords in Python using the keyword library"
      ],
      "metadata": {
        "id": "MTB1kVmhlF1C"
      }
    },
    {
      "cell_type": "code",
      "source": [
        "import keyword\n",
        "print(keyword.kwlist)"
      ],
      "metadata": {
        "colab": {
          "base_uri": "https://localhost:8080/"
        },
        "id": "PsX06559kquR",
        "outputId": "173db3ed-5dc3-40d8-fa56-9f032b66183c"
      },
      "execution_count": null,
      "outputs": [
        {
          "output_type": "stream",
          "name": "stdout",
          "text": [
            "['False', 'None', 'True', 'and', 'as', 'assert', 'async', 'await', 'break', 'class', 'continue', 'def', 'del', 'elif', 'else', 'except', 'finally', 'for', 'from', 'global', 'if', 'import', 'in', 'is', 'lambda', 'nonlocal', 'not', 'or', 'pass', 'raise', 'return', 'try', 'while', 'with', 'yield']\n"
          ]
        }
      ]
    },
    {
      "cell_type": "markdown",
      "source": [
        "Q4.Write a program that checks if a given word is a Python keyword."
      ],
      "metadata": {
        "id": "rdLnlFtmlPt5"
      }
    },
    {
      "cell_type": "code",
      "source": [
        "import keyword\n",
        "word = input(\"Enter a word: \")\n",
        "if keyword.iskeyword(word):\n",
        "    print(f\"'{word}' is a Python keyword.\")\n",
        "else:\n",
        "    print(f\"'{word}' is NOT a Python keyword.\")\n"
      ],
      "metadata": {
        "colab": {
          "base_uri": "https://localhost:8080/"
        },
        "id": "WC3mo4QslL82",
        "outputId": "e4a46e12-93e8-4963-fa45-80e2fd1baa8a"
      },
      "execution_count": null,
      "outputs": [
        {
          "output_type": "stream",
          "name": "stdout",
          "text": [
            "Enter a word: for\n",
            "'for' is a Python keyword.\n"
          ]
        }
      ]
    },
    {
      "cell_type": "markdown",
      "source": [
        "Q5.Create a list and tuple in Python, and demonstrate how attempting to change an element works differently for each."
      ],
      "metadata": {
        "id": "rCBFW8IWlko-"
      }
    },
    {
      "cell_type": "code",
      "source": [
        "list=[1,3,'sam','jai']\n",
        "t=(1,3,'sam','jai')\n",
        "print(list)\n",
        "print(t)"
      ],
      "metadata": {
        "colab": {
          "base_uri": "https://localhost:8080/"
        },
        "id": "vk47f5lkldw1",
        "outputId": "6d203eb3-313c-4ab6-9ed6-d23461d6d6f5"
      },
      "execution_count": null,
      "outputs": [
        {
          "output_type": "stream",
          "name": "stdout",
          "text": [
            "[1, 3, 'sam', 'jai']\n",
            "(1, 3, 'sam', 'jai')\n"
          ]
        }
      ]
    },
    {
      "cell_type": "code",
      "source": [
        "list[1]=4\n",
        "print(list)"
      ],
      "metadata": {
        "colab": {
          "base_uri": "https://localhost:8080/"
        },
        "id": "V9kY16M4lqAY",
        "outputId": "4269770f-b60e-47e9-b5e8-9f697a8e2bf0"
      },
      "execution_count": null,
      "outputs": [
        {
          "output_type": "stream",
          "name": "stdout",
          "text": [
            "[1, 4, 'sam', 'jai']\n"
          ]
        }
      ]
    },
    {
      "cell_type": "code",
      "source": [
        "try:\n",
        "    t[1] = 4\n",
        "except TypeError as e:\n",
        "    print(\"Error when modifying tuple:\", e)"
      ],
      "metadata": {
        "colab": {
          "base_uri": "https://localhost:8080/"
        },
        "id": "uNp8jiUnmMC8",
        "outputId": "9560d86f-f653-4a69-a5ae-ecee4b140215"
      },
      "execution_count": null,
      "outputs": [
        {
          "output_type": "stream",
          "name": "stdout",
          "text": [
            "Error when modifying tuple: 'tuple' object does not support item assignment\n"
          ]
        }
      ]
    },
    {
      "cell_type": "markdown",
      "source": [
        "Q6.Write a function to demonstrate the behavior of mutable and immutable arguments."
      ],
      "metadata": {
        "id": "B4eBSt4bnOxB"
      }
    },
    {
      "cell_type": "code",
      "source": [
        "x = 5\n",
        "y = x\n",
        "y += 1\n",
        "print(\"x:\", x)\n",
        "print(\"y:\", y)\n",
        "\n",
        "# Mutable example (list)\n",
        "a = [1, 2, 3]\n",
        "b = a\n",
        "b.append(4)\n",
        "print(\"a:\", a)\n",
        "print(\"b:\", b)"
      ],
      "metadata": {
        "colab": {
          "base_uri": "https://localhost:8080/"
        },
        "id": "8Eipj5DXmsWy",
        "outputId": "68856940-1161-430a-f945-a0504f560a96"
      },
      "execution_count": null,
      "outputs": [
        {
          "output_type": "stream",
          "name": "stdout",
          "text": [
            "x: 5\n",
            "y: 6\n",
            "a: [1, 2, 3, 4]\n",
            "b: [1, 2, 3, 4]\n"
          ]
        }
      ]
    },
    {
      "cell_type": "markdown",
      "source": [
        "Q7.Write a program that performs basic arithmetic operations on two user-input numbers."
      ],
      "metadata": {
        "id": "yuzbH79eoQDX"
      }
    },
    {
      "cell_type": "code",
      "source": [
        "\n",
        "num1 = 4\n",
        "num2 = 3\n",
        "\n",
        "print(\"\\nResults:\")\n",
        "print(\"Addition:\", num1 + num2)\n",
        "print(\"Subtraction:\", num1 - num2)\n",
        "print(\"Multiplication:\", num1 * num2)\n",
        "\n",
        "if num2 != 0:\n",
        "    print(\"Division:\", num1 / num2)\n",
        "    print(\"Modulus:\", num1 % num2)\n",
        "else:\n",
        "    print(\"Division: Not possible (cannot divide by zero)\")\n",
        "    print(\"Modulus: Not possible (cannot divide by zero)\")"
      ],
      "metadata": {
        "colab": {
          "base_uri": "https://localhost:8080/"
        },
        "id": "l21mQQA7n5q1",
        "outputId": "00fbe18f-4376-487d-a018-0ec2112719df"
      },
      "execution_count": null,
      "outputs": [
        {
          "output_type": "stream",
          "name": "stdout",
          "text": [
            "\n",
            "Results:\n",
            "Addition: 7\n",
            "Subtraction: 1\n",
            "Multiplication: 12\n",
            "Division: 1.3333333333333333\n",
            "Modulus: 1\n"
          ]
        }
      ]
    },
    {
      "cell_type": "markdown",
      "source": [
        "Q8.Write a program to demonstrate the use of logical operators."
      ],
      "metadata": {
        "id": "BvSDbFUCongn"
      }
    },
    {
      "cell_type": "code",
      "source": [
        "\n",
        "a =3\n",
        "b =4\n",
        "\n",
        "print(\"\\nLogical Operators Demonstration:\")\n",
        "\n",
        "# and operator\n",
        "print(\"a > 0 and b > 0:\", a > 0 and b > 0)\n",
        "\n",
        "# or operator\n",
        "print(\"a > 0 or b > 0:\", a > 0 or b > 0)\n",
        "\n",
        "# not operator\n",
        "print(\"not(a > 0):\", not (a > 0))"
      ],
      "metadata": {
        "colab": {
          "base_uri": "https://localhost:8080/"
        },
        "id": "EuD3BIlNoiQR",
        "outputId": "94a7f4d5-5268-432a-b85c-e12781271f6d"
      },
      "execution_count": null,
      "outputs": [
        {
          "output_type": "stream",
          "name": "stdout",
          "text": [
            "\n",
            "Logical Operators Demonstration:\n",
            "a > 0 and b > 0: True\n",
            "a > 0 or b > 0: True\n",
            "not(a > 0): False\n"
          ]
        }
      ]
    },
    {
      "cell_type": "markdown",
      "source": [
        "Q9.Write a Python program to convert user input from string to integer, float, and boolean types."
      ],
      "metadata": {
        "id": "QzrO4j4So4Rf"
      }
    },
    {
      "cell_type": "code",
      "source": [
        "user_input = input(\"Enter something: \")\n",
        "\n",
        "try:\n",
        "    int_value = int(user_input)\n",
        "    print(\"Integer:\", int_value)\n",
        "except ValueError:\n",
        "    print(\"Cannot convert to integer.\")\n",
        "\n",
        "try:\n",
        "    float_value = float(user_input)\n",
        "    print(\"Float:\", float_value)\n",
        "except ValueError:\n",
        "    print(\"Cannot convert to float.\")\n",
        "\n",
        "bool_value = bool(user_input)\n",
        "print(\"Boolean:\", bool_value)\n"
      ],
      "metadata": {
        "colab": {
          "base_uri": "https://localhost:8080/"
        },
        "id": "RlMKSVEhozWC",
        "outputId": "b42b8ed0-34e0-4e19-cf85-09b431b1a011"
      },
      "execution_count": null,
      "outputs": [
        {
          "output_type": "stream",
          "name": "stdout",
          "text": [
            "Enter something: 34\n",
            "Integer: 34\n",
            "Float: 34.0\n",
            "Boolean: True\n"
          ]
        }
      ]
    },
    {
      "cell_type": "markdown",
      "source": [
        "Q10.Write code to demonstrate type casting with list elements."
      ],
      "metadata": {
        "id": "s_2FUI-Cpgsb"
      }
    },
    {
      "cell_type": "code",
      "source": [
        "str_list = [\"10\", \"20\", \"30\", \"40\"]\n",
        "print(\"Original list (strings):\", str_list)\n",
        "int_list = [int(item) for item in str_list]\n",
        "print(\"List after converting to integers:\", int_list)\n",
        "float_list = [float(item) for item in str_list]\n",
        "print(\"List after converting to floats:\", float_list)\n",
        "str_again = [str(item) for item in int_list]\n",
        "print(\"List converted back to strings:\", str_again)\n"
      ],
      "metadata": {
        "colab": {
          "base_uri": "https://localhost:8080/"
        },
        "id": "TfooeoPzpYxT",
        "outputId": "dd3692c4-fa1f-4ff9-8e4f-73851c36bf97"
      },
      "execution_count": 3,
      "outputs": [
        {
          "output_type": "stream",
          "name": "stdout",
          "text": [
            "Original list (strings): ['10', '20', '30', '40']\n",
            "List after converting to integers: [10, 20, 30, 40]\n",
            "List after converting to floats: [10.0, 20.0, 30.0, 40.0]\n",
            "List converted back to strings: ['10', '20', '30', '40']\n"
          ]
        }
      ]
    },
    {
      "cell_type": "markdown",
      "source": [
        "Q11.Write a program that checks if a number is positive, negative, or zero"
      ],
      "metadata": {
        "id": "5yjw1Jpgp2J3"
      }
    },
    {
      "cell_type": "code",
      "source": [
        "num = 34\n",
        "if num > 0:\n",
        "    print(\"The number is positive.\")\n",
        "elif num < 0:\n",
        "    print(\"The number is negative.\")\n",
        "else:\n",
        "    print(\"The number is zero.\")\n"
      ],
      "metadata": {
        "colab": {
          "base_uri": "https://localhost:8080/"
        },
        "id": "AKJmYGg2pv7R",
        "outputId": "79488a98-2236-4e37-ffbc-8c89c37259f7"
      },
      "execution_count": null,
      "outputs": [
        {
          "output_type": "stream",
          "name": "stdout",
          "text": [
            "The number is positive.\n"
          ]
        }
      ]
    },
    {
      "cell_type": "markdown",
      "source": [
        "Q12.Write a for loop to print numbers from 1 to 10."
      ],
      "metadata": {
        "id": "J1atz3ErqECB"
      }
    },
    {
      "cell_type": "code",
      "source": [
        "for i in range(1,11):\n",
        "    print(i)"
      ],
      "metadata": {
        "colab": {
          "base_uri": "https://localhost:8080/"
        },
        "id": "J-oLl8o9p9Cy",
        "outputId": "3b2eaa8b-d843-4c64-b971-ff9f99a0a214"
      },
      "execution_count": null,
      "outputs": [
        {
          "output_type": "stream",
          "name": "stdout",
          "text": [
            "1\n",
            "2\n",
            "3\n",
            "4\n",
            "5\n",
            "6\n",
            "7\n",
            "8\n",
            "9\n",
            "10\n"
          ]
        }
      ]
    },
    {
      "cell_type": "markdown",
      "source": [
        "Q13.Write a Python program to find the sum of all even numbers between 1 and 50."
      ],
      "metadata": {
        "id": "JZqVu8CFqdX3"
      }
    },
    {
      "cell_type": "code",
      "source": [
        "sum=0\n",
        "for i in range(1,51):\n",
        "  if i%2==0:\n",
        "    sum +=i\n",
        "print(sum)"
      ],
      "metadata": {
        "colab": {
          "base_uri": "https://localhost:8080/"
        },
        "id": "AvnsSt21qV1f",
        "outputId": "e5e5f367-df1e-4c71-aacb-e94a9e30518c"
      },
      "execution_count": null,
      "outputs": [
        {
          "output_type": "stream",
          "name": "stdout",
          "text": [
            "650\n"
          ]
        }
      ]
    },
    {
      "cell_type": "markdown",
      "source": [
        "Q14.Write a program to reverse a string using a while loop."
      ],
      "metadata": {
        "id": "CCHNtNH5sGhF"
      }
    },
    {
      "cell_type": "code",
      "source": [
        "string=\"string\"\n",
        "print(string)\n",
        "reversed_str = \"\"\n",
        "index = len(string) - 1  # Start from the last character\n",
        "\n",
        "# Loop to reverse the string\n",
        "while index >= 0:\n",
        "    reversed_str += string[index]\n",
        "    index -= 1\n",
        "print(reversed_str)"
      ],
      "metadata": {
        "colab": {
          "base_uri": "https://localhost:8080/"
        },
        "id": "Y5TChfTLqxf2",
        "outputId": "7baf3edd-9146-41ae-cf2f-06f395b719dc"
      },
      "execution_count": null,
      "outputs": [
        {
          "output_type": "stream",
          "name": "stdout",
          "text": [
            "string\n",
            "gnirts\n"
          ]
        }
      ]
    },
    {
      "cell_type": "markdown",
      "source": [
        "Q15.Write a Python program to calculate the factorial of a number provided by the user using a while loop"
      ],
      "metadata": {
        "id": "AZYywqcXtFfY"
      }
    },
    {
      "cell_type": "code",
      "source": [
        "num = int(input(\"Enter a number: \"))\n",
        "factorial = 1\n",
        "i = 1\n",
        "while i <= num:\n",
        "    factorial *= i\n",
        "    i += 1\n",
        "\n",
        "print(f\"The factorial of {num} is {factorial}\")\n"
      ],
      "metadata": {
        "colab": {
          "base_uri": "https://localhost:8080/"
        },
        "id": "bVtQ0DJYsOWe",
        "outputId": "6e4c0419-7a1b-4dad-cdc3-a18570a45e5e"
      },
      "execution_count": null,
      "outputs": [
        {
          "output_type": "stream",
          "name": "stdout",
          "text": [
            "Enter a number: 21\n",
            "The factorial of 21 is 51090942171709440000\n"
          ]
        }
      ]
    },
    {
      "cell_type": "code",
      "source": [],
      "metadata": {
        "id": "4wGpmZ9ztZN3"
      },
      "execution_count": null,
      "outputs": []
    }
  ]
}